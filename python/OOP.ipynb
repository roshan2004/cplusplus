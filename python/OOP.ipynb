{
 "cells": [
  {
   "cell_type": "markdown",
   "id": "caf888b4",
   "metadata": {},
   "source": [
    "#### https://www.codecademy.com/courses/learn-intermediate-python-3/lessons/int-python-oop/exercises/introduction"
   ]
  },
  {
   "cell_type": "code",
   "execution_count": null,
   "id": "51167092",
   "metadata": {},
   "outputs": [],
   "source": []
  }
 ],
 "metadata": {
  "kernelspec": {
   "display_name": "Python 3",
   "language": "python",
   "name": "python3"
  },
  "language_info": {
   "codemirror_mode": {
    "name": "ipython",
    "version": 3
   },
   "file_extension": ".py",
   "mimetype": "text/x-python",
   "name": "python",
   "nbconvert_exporter": "python",
   "pygments_lexer": "ipython3",
   "version": "3.8.8"
  }
 },
 "nbformat": 4,
 "nbformat_minor": 5
}
