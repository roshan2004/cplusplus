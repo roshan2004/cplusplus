{
 "cells": [
  {
   "cell_type": "markdown",
   "id": "5a0cba8e",
   "metadata": {},
   "source": [
    "### Introduction to Iterables"
   ]
  },
  {
   "cell_type": "markdown",
   "id": "73acdbb6",
   "metadata": {},
   "source": [
    "iterable is an object that is capable of being looped through one element at a time."
   ]
  },
  {
   "cell_type": "markdown",
   "id": "ef593ab9",
   "metadata": {},
   "source": [
    "Dictionaries, lists, tuples, and sets are all classified as iterables."
   ]
  },
  {
   "cell_type": "code",
   "execution_count": 1,
   "id": "9d0573df",
   "metadata": {},
   "outputs": [],
   "source": [
    "dog_foods = {\n",
    "    \"Great Dane Foods\" : 4,\n",
    "    \"Min Pin Pup Foods\" : 10,\n",
    "    \"Pawsome Pups Foods\" : 8}"
   ]
  },
  {
   "cell_type": "code",
   "execution_count": 2,
   "id": "28cd38f8",
   "metadata": {},
   "outputs": [
    {
     "data": {
      "text/plain": [
       "{'Great Dane Foods': 4, 'Min Pin Pup Foods': 10, 'Pawsome Pups Foods': 8}"
      ]
     },
     "execution_count": 2,
     "metadata": {},
     "output_type": "execute_result"
    }
   ],
   "source": [
    "dog_foods"
   ]
  },
  {
   "cell_type": "code",
   "execution_count": 4,
   "id": "10414911",
   "metadata": {},
   "outputs": [
    {
     "name": "stdout",
     "output_type": "stream",
     "text": [
      "Great Dane Foods has 4 bags\n",
      "Min Pin Pup Foods has 10 bags\n",
      "Pawsome Pups Foods has 8 bags\n"
     ]
    }
   ],
   "source": [
    "for food_brand in dog_foods:\n",
    "    print(food_brand + \" has \" + str(dog_foods[food_brand])+ \" bags\")"
   ]
  },
  {
   "cell_type": "markdown",
   "id": "67e5c0da",
   "metadata": {},
   "source": [
    "iter() function creates an iterator object out of iterables  \n",
    "next() function captures each individual value during the iteration process.  \n",
    "StopIteration exception that forces our loop to stop where there are no elements remaining."
   ]
  },
  {
   "cell_type": "markdown",
   "id": "2aab641d",
   "metadata": {},
   "source": [
    "#### Iterator Objects: __ iter __() and iter()"
   ]
  },
  {
   "cell_type": "markdown",
   "id": "9bc60d16",
   "metadata": {},
   "source": [
    "Under the hood, the first step that the for loop has to do is to convert our dictionary(iterable) of dog_foods to an iterator object. An iterator object is a special object that represents a stream of data that we can operate on. For this, it uses a built-in function called iter():"
   ]
  },
  {
   "cell_type": "code",
   "execution_count": 5,
   "id": "8f3dd253",
   "metadata": {},
   "outputs": [],
   "source": [
    "dog_food_iterator = iter(dog_foods)"
   ]
  },
  {
   "cell_type": "code",
   "execution_count": 6,
   "id": "64a75daf",
   "metadata": {},
   "outputs": [
    {
     "data": {
      "text/plain": [
       "<dict_keyiterator at 0x7f643157df40>"
      ]
     },
     "execution_count": 6,
     "metadata": {},
     "output_type": "execute_result"
    }
   ],
   "source": [
    "dog_food_iterator"
   ]
  },
  {
   "cell_type": "code",
   "execution_count": 7,
   "id": "3460bcc1",
   "metadata": {},
   "outputs": [
    {
     "name": "stdout",
     "output_type": "stream",
     "text": [
      "<dict_keyiterator object at 0x7f643157df40>\n"
     ]
    }
   ],
   "source": [
    "print(dog_food_iterator)"
   ]
  },
  {
   "cell_type": "markdown",
   "id": "a656c7d8",
   "metadata": {},
   "source": [
    "To go behind the scenes even further, we can see that the iter(dog_foods) is actually calling a method defined within the iterable called __ iter __(). All iterables have this __ iter __() method defined."
   ]
  },
  {
   "cell_type": "code",
   "execution_count": 8,
   "id": "1a072e57",
   "metadata": {},
   "outputs": [
    {
     "name": "stdout",
     "output_type": "stream",
     "text": [
      "['__class__', '__contains__', '__delattr__', '__delitem__', '__dir__', '__doc__', '__eq__', '__format__', '__ge__', '__getattribute__', '__getitem__', '__gt__', '__hash__', '__init__', '__init_subclass__', '__iter__', '__le__', '__len__', '__lt__', '__ne__', '__new__', '__reduce__', '__reduce_ex__', '__repr__', '__reversed__', '__setattr__', '__setitem__', '__sizeof__', '__str__', '__subclasshook__', 'clear', 'copy', 'fromkeys', 'get', 'items', 'keys', 'pop', 'popitem', 'setdefault', 'update', 'values']\n"
     ]
    }
   ],
   "source": [
    "print(dir(dog_foods))"
   ]
  },
  {
   "cell_type": "markdown",
   "id": "b55bbb71",
   "metadata": {},
   "source": [
    "So, in summary, the __ iter __() method simply returns the iterator object that allows us to iterate over the iterable."
   ]
  },
  {
   "cell_type": "markdown",
   "id": "d21ef013",
   "metadata": {},
   "source": [
    "dog_foods.__iter__() will retrieve the same iterator object as calling iter(dog_foods)"
   ]
  },
  {
   "cell_type": "markdown",
   "id": "44c630bf",
   "metadata": {},
   "source": [
    "#### Iterator Objects: __ next __() and next()"
   ]
  },
  {
   "cell_type": "markdown",
   "id": "5da7245e",
   "metadata": {},
   "source": [
    "So, iterator's __ iter __() method is used to create an iterator object, but how does our for loop know which value to retrieve on each iteration?"
   ]
  },
  {
   "cell_type": "markdown",
   "id": "19849e42",
   "metadata": {},
   "source": [
    "The iterator object has a method called __ next __(), which retrieves the iterator's next value."
   ]
  },
  {
   "cell_type": "code",
   "execution_count": 9,
   "id": "5dcc2d6c",
   "metadata": {},
   "outputs": [],
   "source": [
    "sku_list = [7046538, 8289407, 9056375, 2308597]"
   ]
  },
  {
   "cell_type": "code",
   "execution_count": 10,
   "id": "311baeb0",
   "metadata": {},
   "outputs": [],
   "source": [
    "sku_iterator = iter(sku_list)"
   ]
  },
  {
   "cell_type": "code",
   "execution_count": 11,
   "id": "d6737d0c",
   "metadata": {},
   "outputs": [
    {
     "name": "stdout",
     "output_type": "stream",
     "text": [
      "['__class__', '__delattr__', '__dir__', '__doc__', '__eq__', '__format__', '__ge__', '__getattribute__', '__gt__', '__hash__', '__init__', '__init_subclass__', '__iter__', '__le__', '__length_hint__', '__lt__', '__ne__', '__new__', '__next__', '__reduce__', '__reduce_ex__', '__repr__', '__setattr__', '__setstate__', '__sizeof__', '__str__', '__subclasshook__']\n"
     ]
    }
   ],
   "source": [
    "print(dir(sku_iterator))"
   ]
  },
  {
   "cell_type": "code",
   "execution_count": 12,
   "id": "f11c7009",
   "metadata": {},
   "outputs": [],
   "source": [
    "next_sku = sku_iterator.__next__()"
   ]
  },
  {
   "cell_type": "code",
   "execution_count": 13,
   "id": "6902552d",
   "metadata": {},
   "outputs": [
    {
     "name": "stdout",
     "output_type": "stream",
     "text": [
      "7046538\n"
     ]
    }
   ],
   "source": [
    "print(next_sku)"
   ]
  },
  {
   "cell_type": "markdown",
   "id": "1a684a3b",
   "metadata": {},
   "source": [
    "Similarly to __ iter __() and iter(), there is a Python built-in function called next() that we can use in place of calling the __ next __() method. Calling next() simply calls the iterator object's __ next __() method."
   ]
  },
  {
   "cell_type": "code",
   "execution_count": 14,
   "id": "20ab8702",
   "metadata": {},
   "outputs": [],
   "source": [
    "sku_iterator1 = iter(sku_list)"
   ]
  },
  {
   "cell_type": "code",
   "execution_count": 15,
   "id": "ed8828d5",
   "metadata": {},
   "outputs": [],
   "source": [
    "next_sku1 = next(sku_iterator1)"
   ]
  },
  {
   "cell_type": "code",
   "execution_count": 16,
   "id": "e2d14ab0",
   "metadata": {},
   "outputs": [
    {
     "name": "stdout",
     "output_type": "stream",
     "text": [
      "7046538\n"
     ]
    }
   ],
   "source": [
    "print(next_sku1)"
   ]
  },
  {
   "cell_type": "markdown",
   "id": "53493e81",
   "metadata": {},
   "source": [
    "But how does the iterator object know when to stop retrieving values? Does it keep calling __ next __() forever? Luckily, __ next __() method will raise an exception called StopIteration when all items have been iterated through."
   ]
  },
  {
   "cell_type": "markdown",
   "id": "818d1c69",
   "metadata": {},
   "source": [
    "If we call __ next __() a total of 5 times, one more than the total number of SKUs in our list, we will see the StopIteration exception raise on the last __ next __() call"
   ]
  },
  {
   "cell_type": "code",
   "execution_count": 17,
   "id": "885c6db8",
   "metadata": {},
   "outputs": [],
   "source": [
    "sku_iterator = iter(sku_list)"
   ]
  },
  {
   "cell_type": "code",
   "execution_count": 18,
   "id": "7c4f21ee",
   "metadata": {},
   "outputs": [
    {
     "name": "stdout",
     "output_type": "stream",
     "text": [
      "7046538\n",
      "8289407\n",
      "9056375\n",
      "2308597\n"
     ]
    },
    {
     "ename": "StopIteration",
     "evalue": "",
     "output_type": "error",
     "traceback": [
      "\u001b[0;31m---------------------------------------------------------------------------\u001b[0m",
      "\u001b[0;31mStopIteration\u001b[0m                             Traceback (most recent call last)",
      "\u001b[0;32m<ipython-input-18-5d5e9c34a274>\u001b[0m in \u001b[0;36m<module>\u001b[0;34m\u001b[0m\n\u001b[1;32m      1\u001b[0m \u001b[0;32mfor\u001b[0m \u001b[0mi\u001b[0m \u001b[0;32min\u001b[0m \u001b[0mrange\u001b[0m\u001b[0;34m(\u001b[0m\u001b[0;36m5\u001b[0m\u001b[0;34m)\u001b[0m\u001b[0;34m:\u001b[0m\u001b[0;34m\u001b[0m\u001b[0;34m\u001b[0m\u001b[0m\n\u001b[0;32m----> 2\u001b[0;31m     \u001b[0mnext_sku\u001b[0m \u001b[0;34m=\u001b[0m \u001b[0msku_iterator\u001b[0m\u001b[0;34m.\u001b[0m\u001b[0m__next__\u001b[0m\u001b[0;34m(\u001b[0m\u001b[0;34m)\u001b[0m\u001b[0;34m\u001b[0m\u001b[0;34m\u001b[0m\u001b[0m\n\u001b[0m\u001b[1;32m      3\u001b[0m     \u001b[0mprint\u001b[0m\u001b[0;34m(\u001b[0m\u001b[0mnext_sku\u001b[0m\u001b[0;34m)\u001b[0m\u001b[0;34m\u001b[0m\u001b[0;34m\u001b[0m\u001b[0m\n",
      "\u001b[0;31mStopIteration\u001b[0m: "
     ]
    }
   ],
   "source": [
    "for i in range(5):\n",
    "    next_sku = sku_iterator.__next__()\n",
    "    print(next_sku)"
   ]
  },
  {
   "cell_type": "markdown",
   "id": "91a1748f",
   "metadata": {},
   "source": [
    "So, we can finally see why we needed to create the iterator object. Creating it, allows us to utilize next() or __ next __() to work with the stream of data one piece at a time."
   ]
  },
  {
   "cell_type": "code",
   "execution_count": 19,
   "id": "b3784069",
   "metadata": {},
   "outputs": [],
   "source": [
    "dog_foods = {\n",
    "    \"Great Dane Foods\": 4,\n",
    "    \"Min Pip Pup Foods\": 10,\n",
    "    \"Pawsome Pup Foods\": 8\n",
    "}"
   ]
  },
  {
   "cell_type": "code",
   "execution_count": 20,
   "id": "87854a76",
   "metadata": {},
   "outputs": [],
   "source": [
    "dog_food_iterator = iter(dog_foods)"
   ]
  },
  {
   "cell_type": "code",
   "execution_count": 21,
   "id": "cee5733a",
   "metadata": {},
   "outputs": [
    {
     "name": "stdout",
     "output_type": "stream",
     "text": [
      "Great Dane Foods\n"
     ]
    }
   ],
   "source": [
    "print(next(dog_food_iterator))"
   ]
  },
  {
   "cell_type": "code",
   "execution_count": 22,
   "id": "d95560a4",
   "metadata": {},
   "outputs": [
    {
     "name": "stdout",
     "output_type": "stream",
     "text": [
      "Min Pip Pup Foods\n"
     ]
    }
   ],
   "source": [
    "print(next(dog_food_iterator))"
   ]
  },
  {
   "cell_type": "code",
   "execution_count": 23,
   "id": "8eee2dd3",
   "metadata": {},
   "outputs": [
    {
     "name": "stdout",
     "output_type": "stream",
     "text": [
      "Pawsome Pup Foods\n"
     ]
    }
   ],
   "source": [
    "print(next(dog_food_iterator))"
   ]
  },
  {
   "cell_type": "code",
   "execution_count": 24,
   "id": "f3d1b6a0",
   "metadata": {},
   "outputs": [
    {
     "ename": "StopIteration",
     "evalue": "",
     "output_type": "error",
     "traceback": [
      "\u001b[0;31m---------------------------------------------------------------------------\u001b[0m",
      "\u001b[0;31mStopIteration\u001b[0m                             Traceback (most recent call last)",
      "\u001b[0;32m<ipython-input-24-ef5c47c1cbe2>\u001b[0m in \u001b[0;36m<module>\u001b[0;34m\u001b[0m\n\u001b[0;32m----> 1\u001b[0;31m \u001b[0mprint\u001b[0m\u001b[0;34m(\u001b[0m\u001b[0mnext\u001b[0m\u001b[0;34m(\u001b[0m\u001b[0mdog_food_iterator\u001b[0m\u001b[0;34m)\u001b[0m\u001b[0;34m)\u001b[0m\u001b[0;34m\u001b[0m\u001b[0;34m\u001b[0m\u001b[0m\n\u001b[0m",
      "\u001b[0;31mStopIteration\u001b[0m: "
     ]
    }
   ],
   "source": [
    "print(next(dog_food_iterator))"
   ]
  },
  {
   "cell_type": "markdown",
   "id": "58ea3a88",
   "metadata": {},
   "source": [
    "### Iterators and For Loops"
   ]
  },
  {
   "cell_type": "code",
   "execution_count": 26,
   "id": "30df8c17",
   "metadata": {},
   "outputs": [
    {
     "name": "stdout",
     "output_type": "stream",
     "text": [
      "Great Dane Foods has 4 bags \n",
      "Min Pip Pup Foods has 10 bags \n",
      "Pawsome Pup Foods has 8 bags \n"
     ]
    }
   ],
   "source": [
    "for food_brand in dog_foods:\n",
    "    print(food_brand + \" has \"+str(dog_foods[food_brand]) + \" bags \")"
   ]
  },
  {
   "cell_type": "markdown",
   "id": "d40f613e",
   "metadata": {},
   "source": [
    "**The three main steps are**"
   ]
  },
  {
   "cell_type": "markdown",
   "id": "ddcc1fe8",
   "metadata": {},
   "source": [
    "1. For loop uses the iter() function to convert dog_foods into an iterator object  \n",
    "2. Then, next() is called on each iteration of the for loop to retrieve the next value. This value is set to the for loop's variable, food_brand.  \n",
    "3. On each for loop iteration, the print statement is executed, until finally, the for loop executes a call to next() that raises the StopIteration exception. The for loop then exits and is finished iterating."
   ]
  },
  {
   "cell_type": "markdown",
   "id": "06daf69d",
   "metadata": {},
   "source": [
    "### Custom Iterators I"
   ]
  },
  {
   "cell_type": "markdown",
   "id": "cdb4af35",
   "metadata": {},
   "source": [
    "We have seen that the methods __ iter __() and __ next __() must be implemented for an object to be an iterator object. The implementation of these methods is known as the iterator protocol.  \n",
    "If we desire to create our own custom iterator class, we must implement the iterator protocol, meaning we need to have a class that defines at minimum the __ iter __() and __ next __() methods."
   ]
  },
  {
   "cell_type": "markdown",
   "id": "4e8dce2b",
   "metadata": {},
   "source": [
    "To look at a scenario where we might require our own custom iterator, imagine we are receiving a shipment of new fish that we can now sell in our pet store. We don't have any classes to manage our fish inventory, so we need to create a custom class to do so. If we wanted to track the available fish inventory, our custom class initializer may look something like this:"
   ]
  },
  {
   "cell_type": "code",
   "execution_count": 27,
   "id": "cacf6d45",
   "metadata": {},
   "outputs": [],
   "source": [
    "class FishInventory:\n",
    "    def __init__(self, fishList):\n",
    "        self.available_fish = fishList"
   ]
  },
  {
   "cell_type": "code",
   "execution_count": 28,
   "id": "638b885e",
   "metadata": {},
   "outputs": [],
   "source": [
    "fish_inventory_cls = FishInventory([\"Bubbles\", \"Finley\", \"Moby\"])"
   ]
  },
  {
   "cell_type": "code",
   "execution_count": 29,
   "id": "7e06f440",
   "metadata": {},
   "outputs": [
    {
     "data": {
      "text/plain": [
       "<__main__.FishInventory at 0x7f643145d040>"
      ]
     },
     "execution_count": 29,
     "metadata": {},
     "output_type": "execute_result"
    }
   ],
   "source": [
    "fish_inventory_cls"
   ]
  },
  {
   "cell_type": "code",
   "execution_count": 30,
   "id": "3c384266",
   "metadata": {},
   "outputs": [
    {
     "ename": "TypeError",
     "evalue": "'FishInventory' object is not iterable",
     "output_type": "error",
     "traceback": [
      "\u001b[0;31m---------------------------------------------------------------------------\u001b[0m",
      "\u001b[0;31mTypeError\u001b[0m                                 Traceback (most recent call last)",
      "\u001b[0;32m<ipython-input-30-986405c104e0>\u001b[0m in \u001b[0;36m<module>\u001b[0;34m\u001b[0m\n\u001b[0;32m----> 1\u001b[0;31m \u001b[0;32mfor\u001b[0m \u001b[0mfish\u001b[0m \u001b[0;32min\u001b[0m \u001b[0mfish_inventory_cls\u001b[0m\u001b[0;34m:\u001b[0m\u001b[0;34m\u001b[0m\u001b[0;34m\u001b[0m\u001b[0m\n\u001b[0m\u001b[1;32m      2\u001b[0m     \u001b[0mprint\u001b[0m\u001b[0;34m(\u001b[0m\u001b[0mfish\u001b[0m\u001b[0;34m)\u001b[0m\u001b[0;34m\u001b[0m\u001b[0;34m\u001b[0m\u001b[0m\n",
      "\u001b[0;31mTypeError\u001b[0m: 'FishInventory' object is not iterable"
     ]
    }
   ],
   "source": [
    "for fish in fish_inventory_cls:\n",
    "    print(fish)"
   ]
  },
  {
   "cell_type": "markdown",
   "id": "5b707c25",
   "metadata": {},
   "source": [
    "When we create a FishInventory class object, we want to iterate over all the fish available within self.available_fish. If we attempt to directly iterate over our custom FishInventory class object, we will receive an error because we have not yet implemented the iterator protocol for this custom class. To make the FishInventory class iterable, we can simply define __ iter __() and __ next __() methods."
   ]
  },
  {
   "cell_type": "markdown",
   "id": "6fd59f5f",
   "metadata": {},
   "source": [
    "#### Custom Iterators II"
   ]
  },
  {
   "cell_type": "markdown",
   "id": "0018bce7",
   "metadata": {},
   "source": [
    "To iterate over a custom class we must implement the iterator protocol by defining the __ iter __() and __ next __() methods. In most cases, the two methods can do the following:"
   ]
  },
  {
   "cell_type": "markdown",
   "id": "1cec8f4f",
   "metadata": {},
   "source": [
    "* The __ iter __() method must always return the iterator object itself. Typically,this is accomplished by returning self. It can also include some class member initializing.  \n",
    "* The __ next __() method must either return the next value available or raise the StopIteration exception. It can also include any number of operations."
   ]
  },
  {
   "cell_type": "markdown",
   "id": "30eaff33",
   "metadata": {},
   "source": [
    "We want to make the FishInventory class iterable to see all the available fish. To make it iterable, we first define the __ iter __() method. We can initialize a class member within the __ iter __() method called index that will help us track the current position we're in within the self.available_fish list."
   ]
  },
  {
   "cell_type": "code",
   "execution_count": 31,
   "id": "a6b57d2a",
   "metadata": {},
   "outputs": [],
   "source": [
    "class FishInventory:\n",
    "    def __init__(self, fishList):\n",
    "        self.available_fish = fishList\n",
    "        \n",
    "    def __iter__(self):\n",
    "        self.index = 0\n",
    "        return self"
   ]
  },
  {
   "cell_type": "markdown",
   "id": "e54afaed",
   "metadata": {},
   "source": [
    "Notice that the __ iter __() method returns itself since this class will be an iterator object. The __ iter __() methods can return other iterator objects, but typically the object itself is returned here by using return self."
   ]
  },
  {
   "cell_type": "markdown",
   "id": "33c3d544",
   "metadata": {},
   "source": [
    "Then, we define the __ next __() method . We can also perform operations inside this method, like incrementing class members or traversing a for loop for instance."
   ]
  },
  {
   "cell_type": "code",
   "execution_count": 32,
   "id": "80af224d",
   "metadata": {},
   "outputs": [],
   "source": [
    "class FishInventory:\n",
    "    def __init__(self, fishList):\n",
    "        self.available_fish = fishList\n",
    "        \n",
    "    def __iter__(self):\n",
    "        self.index = 0\n",
    "        return self\n",
    "    \n",
    "    def __next__(self):\n",
    "        fish_status = self.available_fish[self.index] + \" is available!\"\n",
    "        self.index +=1\n",
    "        return fish_status"
   ]
  },
  {
   "cell_type": "code",
   "execution_count": 33,
   "id": "f6ac689b",
   "metadata": {},
   "outputs": [],
   "source": [
    "obj = FishInventory(['Rohu', \"Green\", \"Spade\"])"
   ]
  },
  {
   "cell_type": "code",
   "execution_count": 35,
   "id": "0f511ea9",
   "metadata": {},
   "outputs": [
    {
     "name": "stdout",
     "output_type": "stream",
     "text": [
      "['__class__', '__delattr__', '__dict__', '__dir__', '__doc__', '__eq__', '__format__', '__ge__', '__getattribute__', '__gt__', '__hash__', '__init__', '__init_subclass__', '__iter__', '__le__', '__lt__', '__module__', '__ne__', '__new__', '__next__', '__reduce__', '__reduce_ex__', '__repr__', '__setattr__', '__sizeof__', '__str__', '__subclasshook__', '__weakref__', 'available_fish']\n"
     ]
    }
   ],
   "source": [
    "print(dir(obj))"
   ]
  },
  {
   "cell_type": "code",
   "execution_count": 36,
   "id": "bc24f73e",
   "metadata": {},
   "outputs": [
    {
     "data": {
      "text/plain": [
       "['Rohu', 'Green', 'Spade']"
      ]
     },
     "execution_count": 36,
     "metadata": {},
     "output_type": "execute_result"
    }
   ],
   "source": [
    "obj.available_fish"
   ]
  },
  {
   "cell_type": "code",
   "execution_count": 37,
   "id": "65fecf11",
   "metadata": {},
   "outputs": [],
   "source": [
    "obj_iter = iter(obj)"
   ]
  },
  {
   "cell_type": "code",
   "execution_count": 39,
   "id": "260052b2",
   "metadata": {},
   "outputs": [
    {
     "name": "stdout",
     "output_type": "stream",
     "text": [
      "['__class__', '__delattr__', '__dict__', '__dir__', '__doc__', '__eq__', '__format__', '__ge__', '__getattribute__', '__gt__', '__hash__', '__init__', '__init_subclass__', '__iter__', '__le__', '__lt__', '__module__', '__ne__', '__new__', '__next__', '__reduce__', '__reduce_ex__', '__repr__', '__setattr__', '__sizeof__', '__str__', '__subclasshook__', '__weakref__', 'available_fish', 'index']\n"
     ]
    }
   ],
   "source": [
    "print(dir(obj_iter))"
   ]
  },
  {
   "cell_type": "code",
   "execution_count": 40,
   "id": "9011ea92",
   "metadata": {},
   "outputs": [
    {
     "data": {
      "text/plain": [
       "0"
      ]
     },
     "execution_count": 40,
     "metadata": {},
     "output_type": "execute_result"
    }
   ],
   "source": [
    "obj_iter.index"
   ]
  },
  {
   "cell_type": "code",
   "execution_count": 42,
   "id": "3143fa74",
   "metadata": {},
   "outputs": [
    {
     "data": {
      "text/plain": [
       "'Green is available!'"
      ]
     },
     "execution_count": 42,
     "metadata": {},
     "output_type": "execute_result"
    }
   ],
   "source": [
    "next(obj_iter)"
   ]
  },
  {
   "cell_type": "code",
   "execution_count": 43,
   "id": "bb35a059",
   "metadata": {},
   "outputs": [
    {
     "data": {
      "text/plain": [
       "'Spade is available!'"
      ]
     },
     "execution_count": 43,
     "metadata": {},
     "output_type": "execute_result"
    }
   ],
   "source": [
    "next(obj_iter)"
   ]
  },
  {
   "cell_type": "code",
   "execution_count": 44,
   "id": "1cce6fbf",
   "metadata": {},
   "outputs": [
    {
     "ename": "IndexError",
     "evalue": "list index out of range",
     "output_type": "error",
     "traceback": [
      "\u001b[0;31m---------------------------------------------------------------------------\u001b[0m",
      "\u001b[0;31mIndexError\u001b[0m                                Traceback (most recent call last)",
      "\u001b[0;32m<ipython-input-44-ed31a71612e7>\u001b[0m in \u001b[0;36m<module>\u001b[0;34m\u001b[0m\n\u001b[0;32m----> 1\u001b[0;31m \u001b[0mnext\u001b[0m\u001b[0;34m(\u001b[0m\u001b[0mobj_iter\u001b[0m\u001b[0;34m)\u001b[0m\u001b[0;34m\u001b[0m\u001b[0;34m\u001b[0m\u001b[0m\n\u001b[0m",
      "\u001b[0;32m<ipython-input-32-ffc32a7b9c5d>\u001b[0m in \u001b[0;36m__next__\u001b[0;34m(self)\u001b[0m\n\u001b[1;32m      8\u001b[0m \u001b[0;34m\u001b[0m\u001b[0m\n\u001b[1;32m      9\u001b[0m     \u001b[0;32mdef\u001b[0m \u001b[0m__next__\u001b[0m\u001b[0;34m(\u001b[0m\u001b[0mself\u001b[0m\u001b[0;34m)\u001b[0m\u001b[0;34m:\u001b[0m\u001b[0;34m\u001b[0m\u001b[0;34m\u001b[0m\u001b[0m\n\u001b[0;32m---> 10\u001b[0;31m         \u001b[0mfish_status\u001b[0m \u001b[0;34m=\u001b[0m \u001b[0mself\u001b[0m\u001b[0;34m.\u001b[0m\u001b[0mavailable_fish\u001b[0m\u001b[0;34m[\u001b[0m\u001b[0mself\u001b[0m\u001b[0;34m.\u001b[0m\u001b[0mindex\u001b[0m\u001b[0;34m]\u001b[0m \u001b[0;34m+\u001b[0m \u001b[0;34m\" is available!\"\u001b[0m\u001b[0;34m\u001b[0m\u001b[0;34m\u001b[0m\u001b[0m\n\u001b[0m\u001b[1;32m     11\u001b[0m         \u001b[0mself\u001b[0m\u001b[0;34m.\u001b[0m\u001b[0mindex\u001b[0m \u001b[0;34m+=\u001b[0m\u001b[0;36m1\u001b[0m\u001b[0;34m\u001b[0m\u001b[0;34m\u001b[0m\u001b[0m\n\u001b[1;32m     12\u001b[0m         \u001b[0;32mreturn\u001b[0m \u001b[0mfish_status\u001b[0m\u001b[0;34m\u001b[0m\u001b[0;34m\u001b[0m\u001b[0m\n",
      "\u001b[0;31mIndexError\u001b[0m: list index out of range"
     ]
    }
   ],
   "source": [
    "next(obj_iter)"
   ]
  },
  {
   "cell_type": "markdown",
   "id": "1ba05a8f",
   "metadata": {},
   "source": [
    "Here we return the next available fish status within a string value and increment our class member index by 1. Iterating over this class object will eventually error out since we fail to do any checking of our index value against the length of the self.available_fish list. We can avoid this and cleanly stop the iterator by raising the StopIteration exception in our __ next __() method. Here, we'll modify our __ next __() method to raise StopIteration if index exceeds the length of available_fish."
   ]
  },
  {
   "cell_type": "code",
   "execution_count": 53,
   "id": "583fbb1b",
   "metadata": {},
   "outputs": [],
   "source": [
    "class FishInventory:\n",
    "    def __init__(self, fishList):\n",
    "        self.available_fish = fishList\n",
    "        \n",
    "    def __iter__(self):\n",
    "        self.index = 0\n",
    "        return self\n",
    "    \n",
    "    def __next__(self):\n",
    "        if self.index < len(self.available_fish):\n",
    "            fish_status = self.available_fish[self.index] + \" is available!\"\n",
    "            self.index +=1\n",
    "            return fish_status\n",
    "        else:\n",
    "            raise StopIteration\n",
    "        "
   ]
  },
  {
   "cell_type": "code",
   "execution_count": 54,
   "id": "02a03f73",
   "metadata": {},
   "outputs": [],
   "source": [
    "obj = FishInventory(['Rohu', 'Spade', 'Shark'])"
   ]
  },
  {
   "cell_type": "code",
   "execution_count": 55,
   "id": "cbd624db",
   "metadata": {},
   "outputs": [],
   "source": [
    "obj_iter = iter(obj)"
   ]
  },
  {
   "cell_type": "code",
   "execution_count": 56,
   "id": "081f41a4",
   "metadata": {},
   "outputs": [
    {
     "data": {
      "text/plain": [
       "<__main__.FishInventory at 0x7f643144c5e0>"
      ]
     },
     "execution_count": 56,
     "metadata": {},
     "output_type": "execute_result"
    }
   ],
   "source": [
    "obj_iter"
   ]
  },
  {
   "cell_type": "code",
   "execution_count": 57,
   "id": "7531a225",
   "metadata": {},
   "outputs": [
    {
     "data": {
      "text/plain": [
       "'Rohu is available!'"
      ]
     },
     "execution_count": 57,
     "metadata": {},
     "output_type": "execute_result"
    }
   ],
   "source": [
    "next(obj_iter)"
   ]
  },
  {
   "cell_type": "code",
   "execution_count": 58,
   "id": "e9d776af",
   "metadata": {},
   "outputs": [
    {
     "data": {
      "text/plain": [
       "'Spade is available!'"
      ]
     },
     "execution_count": 58,
     "metadata": {},
     "output_type": "execute_result"
    }
   ],
   "source": [
    "next(obj_iter)"
   ]
  },
  {
   "cell_type": "code",
   "execution_count": 59,
   "id": "306c8589",
   "metadata": {},
   "outputs": [
    {
     "data": {
      "text/plain": [
       "'Shark is available!'"
      ]
     },
     "execution_count": 59,
     "metadata": {},
     "output_type": "execute_result"
    }
   ],
   "source": [
    "next(obj_iter)"
   ]
  },
  {
   "cell_type": "code",
   "execution_count": 60,
   "id": "65c08fbc",
   "metadata": {},
   "outputs": [
    {
     "ename": "StopIteration",
     "evalue": "",
     "output_type": "error",
     "traceback": [
      "\u001b[0;31m---------------------------------------------------------------------------\u001b[0m",
      "\u001b[0;31mStopIteration\u001b[0m                             Traceback (most recent call last)",
      "\u001b[0;32m<ipython-input-60-ed31a71612e7>\u001b[0m in \u001b[0;36m<module>\u001b[0;34m\u001b[0m\n\u001b[0;32m----> 1\u001b[0;31m \u001b[0mnext\u001b[0m\u001b[0;34m(\u001b[0m\u001b[0mobj_iter\u001b[0m\u001b[0;34m)\u001b[0m\u001b[0;34m\u001b[0m\u001b[0;34m\u001b[0m\u001b[0m\n\u001b[0m",
      "\u001b[0;32m<ipython-input-53-20e70fda274b>\u001b[0m in \u001b[0;36m__next__\u001b[0;34m(self)\u001b[0m\n\u001b[1;32m     13\u001b[0m             \u001b[0;32mreturn\u001b[0m \u001b[0mfish_status\u001b[0m\u001b[0;34m\u001b[0m\u001b[0;34m\u001b[0m\u001b[0m\n\u001b[1;32m     14\u001b[0m         \u001b[0;32melse\u001b[0m\u001b[0;34m:\u001b[0m\u001b[0;34m\u001b[0m\u001b[0;34m\u001b[0m\u001b[0m\n\u001b[0;32m---> 15\u001b[0;31m             \u001b[0;32mraise\u001b[0m \u001b[0mStopIteration\u001b[0m\u001b[0;34m\u001b[0m\u001b[0;34m\u001b[0m\u001b[0m\n\u001b[0m\u001b[1;32m     16\u001b[0m \u001b[0;34m\u001b[0m\u001b[0m\n",
      "\u001b[0;31mStopIteration\u001b[0m: "
     ]
    }
   ],
   "source": [
    "next(obj_iter)"
   ]
  },
  {
   "cell_type": "code",
   "execution_count": 62,
   "id": "ad6061de",
   "metadata": {},
   "outputs": [
    {
     "name": "stdout",
     "output_type": "stream",
     "text": [
      "1\n",
      "2\n",
      "3\n",
      "4\n",
      "5\n",
      "6\n",
      "7\n",
      "8\n",
      "9\n",
      "10\n",
      "11\n",
      "12\n",
      "13\n",
      "14\n",
      "15\n",
      "16\n",
      "17\n",
      "18\n",
      "19\n",
      "20\n",
      "21\n",
      "22\n",
      "23\n",
      "24\n",
      "25\n",
      "26\n",
      "27\n",
      "28\n",
      "29\n",
      "30\n",
      "31\n",
      "32\n",
      "33\n",
      "34\n",
      "35\n",
      "36\n",
      "37\n",
      "38\n",
      "39\n",
      "40\n",
      "41\n",
      "42\n",
      "43\n",
      "44\n",
      "45\n",
      "46\n",
      "47\n",
      "48\n",
      "49\n",
      "50\n",
      "51\n",
      "52\n",
      "53\n",
      "54\n",
      "55\n",
      "56\n",
      "57\n",
      "58\n",
      "59\n",
      "60\n",
      "61\n",
      "62\n",
      "63\n",
      "64\n",
      "65\n",
      "66\n",
      "67\n",
      "68\n",
      "69\n",
      "70\n",
      "71\n",
      "72\n",
      "73\n",
      "74\n",
      "75\n",
      "76\n",
      "77\n",
      "78\n",
      "79\n",
      "80\n",
      "81\n",
      "82\n",
      "83\n",
      "84\n",
      "85\n",
      "86\n",
      "87\n",
      "88\n",
      "89\n",
      "90\n",
      "91\n",
      "92\n",
      "93\n",
      "94\n",
      "95\n",
      "96\n",
      "97\n",
      "98\n",
      "99\n",
      "100\n"
     ]
    }
   ],
   "source": [
    "class CustomerCounter:\n",
    "\n",
    "# Write your code below:\n",
    "  def __iter__(self):\n",
    "    self.count = 0\n",
    "    return self\n",
    "\n",
    "  def __next__(self):\n",
    "    self.count +=1\n",
    "    if self.count > 100:\n",
    "      raise StopIteration\n",
    "    return self.count\n",
    "    \n",
    "\n",
    "customer_counter = CustomerCounter()\n",
    "for val in customer_counter:\n",
    "  print(val)"
   ]
  },
  {
   "cell_type": "code",
   "execution_count": 63,
   "id": "f0d9940a",
   "metadata": {},
   "outputs": [],
   "source": [
    "class FishInventory:\n",
    "    def __init__(self, fishList):\n",
    "        self.available_fish = fishList\n",
    "        \n",
    "    def __iter__(self):\n",
    "        self.index = 0\n",
    "        return self\n",
    "    \n",
    "    def __next__(self):\n",
    "        fish_status = self.available_fish[self.index] + \" is available!\"\n",
    "        self.index +=1\n",
    "        return fish_status\n",
    "    "
   ]
  },
  {
   "cell_type": "code",
   "execution_count": 65,
   "id": "09e6378f",
   "metadata": {},
   "outputs": [],
   "source": [
    "obj = FishInventory(['Rohu', 'Spade', 'Honey', 'Star'])"
   ]
  },
  {
   "cell_type": "code",
   "execution_count": 66,
   "id": "1daa262c",
   "metadata": {},
   "outputs": [
    {
     "data": {
      "text/plain": [
       "<__main__.FishInventory at 0x7f643108de80>"
      ]
     },
     "execution_count": 66,
     "metadata": {},
     "output_type": "execute_result"
    }
   ],
   "source": [
    "obj"
   ]
  },
  {
   "cell_type": "code",
   "execution_count": 67,
   "id": "5110dc5b",
   "metadata": {},
   "outputs": [
    {
     "data": {
      "text/plain": [
       "__main__.FishInventory"
      ]
     },
     "execution_count": 67,
     "metadata": {},
     "output_type": "execute_result"
    }
   ],
   "source": [
    "type(obj)"
   ]
  },
  {
   "cell_type": "code",
   "execution_count": 68,
   "id": "c5f5e374",
   "metadata": {},
   "outputs": [
    {
     "name": "stdout",
     "output_type": "stream",
     "text": [
      "['__class__', '__delattr__', '__dict__', '__dir__', '__doc__', '__eq__', '__format__', '__ge__', '__getattribute__', '__gt__', '__hash__', '__init__', '__init_subclass__', '__iter__', '__le__', '__lt__', '__module__', '__ne__', '__new__', '__next__', '__reduce__', '__reduce_ex__', '__repr__', '__setattr__', '__sizeof__', '__str__', '__subclasshook__', '__weakref__', 'available_fish']\n"
     ]
    }
   ],
   "source": [
    "print(dir(obj))"
   ]
  },
  {
   "cell_type": "code",
   "execution_count": 69,
   "id": "81cf9035",
   "metadata": {},
   "outputs": [
    {
     "name": "stdout",
     "output_type": "stream",
     "text": [
      "Rohu is available!\n",
      "Spade is available!\n",
      "Honey is available!\n",
      "Star is available!\n"
     ]
    },
    {
     "ename": "IndexError",
     "evalue": "list index out of range",
     "output_type": "error",
     "traceback": [
      "\u001b[0;31m---------------------------------------------------------------------------\u001b[0m",
      "\u001b[0;31mIndexError\u001b[0m                                Traceback (most recent call last)",
      "\u001b[0;32m<ipython-input-69-eadec4e38302>\u001b[0m in \u001b[0;36m<module>\u001b[0;34m\u001b[0m\n\u001b[0;32m----> 1\u001b[0;31m \u001b[0;32mfor\u001b[0m \u001b[0mval\u001b[0m \u001b[0;32min\u001b[0m \u001b[0mobj\u001b[0m\u001b[0;34m:\u001b[0m\u001b[0;34m\u001b[0m\u001b[0;34m\u001b[0m\u001b[0m\n\u001b[0m\u001b[1;32m      2\u001b[0m     \u001b[0mprint\u001b[0m\u001b[0;34m(\u001b[0m\u001b[0mval\u001b[0m\u001b[0;34m)\u001b[0m\u001b[0;34m\u001b[0m\u001b[0;34m\u001b[0m\u001b[0m\n",
      "\u001b[0;32m<ipython-input-63-10e6057d8fca>\u001b[0m in \u001b[0;36m__next__\u001b[0;34m(self)\u001b[0m\n\u001b[1;32m      8\u001b[0m \u001b[0;34m\u001b[0m\u001b[0m\n\u001b[1;32m      9\u001b[0m     \u001b[0;32mdef\u001b[0m \u001b[0m__next__\u001b[0m\u001b[0;34m(\u001b[0m\u001b[0mself\u001b[0m\u001b[0;34m)\u001b[0m\u001b[0;34m:\u001b[0m\u001b[0;34m\u001b[0m\u001b[0;34m\u001b[0m\u001b[0m\n\u001b[0;32m---> 10\u001b[0;31m         \u001b[0mfish_status\u001b[0m \u001b[0;34m=\u001b[0m \u001b[0mself\u001b[0m\u001b[0;34m.\u001b[0m\u001b[0mavailable_fish\u001b[0m\u001b[0;34m[\u001b[0m\u001b[0mself\u001b[0m\u001b[0;34m.\u001b[0m\u001b[0mindex\u001b[0m\u001b[0;34m]\u001b[0m \u001b[0;34m+\u001b[0m \u001b[0;34m\" is available!\"\u001b[0m\u001b[0;34m\u001b[0m\u001b[0;34m\u001b[0m\u001b[0m\n\u001b[0m\u001b[1;32m     11\u001b[0m         \u001b[0mself\u001b[0m\u001b[0;34m.\u001b[0m\u001b[0mindex\u001b[0m \u001b[0;34m+=\u001b[0m\u001b[0;36m1\u001b[0m\u001b[0;34m\u001b[0m\u001b[0;34m\u001b[0m\u001b[0m\n\u001b[1;32m     12\u001b[0m         \u001b[0;32mreturn\u001b[0m \u001b[0mfish_status\u001b[0m\u001b[0;34m\u001b[0m\u001b[0;34m\u001b[0m\u001b[0m\n",
      "\u001b[0;31mIndexError\u001b[0m: list index out of range"
     ]
    }
   ],
   "source": [
    "for val in obj:\n",
    "    print(val)"
   ]
  },
  {
   "cell_type": "code",
   "execution_count": 71,
   "id": "5fa60cc8",
   "metadata": {},
   "outputs": [],
   "source": [
    "class FishInventory:\n",
    "    def __init__(self, fishList):\n",
    "        self.available_fish = fishList\n",
    "        \n",
    "    def __iter__(self):\n",
    "        self.index = 0\n",
    "        return self\n",
    "    \n",
    "    def __next__(self):\n",
    "        if self.index < len(self.available_fish):\n",
    "            fish_status = self.available_fish[self.index] + \" is available!\"\n",
    "            self.index +=1\n",
    "            return fish_status\n",
    "        else:\n",
    "            raise StopIteration\n",
    "    "
   ]
  },
  {
   "cell_type": "code",
   "execution_count": 72,
   "id": "28994575",
   "metadata": {},
   "outputs": [],
   "source": [
    "obj1 = FishInventory(['Rohu', 'Salmon', 'Seamone', 'Birdy'])"
   ]
  },
  {
   "cell_type": "code",
   "execution_count": 73,
   "id": "af24a98b",
   "metadata": {},
   "outputs": [
    {
     "name": "stdout",
     "output_type": "stream",
     "text": [
      "Rohu is available!\n",
      "Salmon is available!\n",
      "Seamone is available!\n",
      "Birdy is available!\n"
     ]
    }
   ],
   "source": [
    "for i in obj1:\n",
    "    print(i)"
   ]
  },
  {
   "cell_type": "code",
   "execution_count": 78,
   "id": "8d89ebf0",
   "metadata": {},
   "outputs": [],
   "source": [
    "class CustomerCounter:\n",
    "    def __init__(self):\n",
    "        pass\n",
    "    \n",
    "    def __iter__(self):\n",
    "        self.count = 0\n",
    "        return self\n",
    "    \n",
    "    def __next__(self):\n",
    "        self.count +=1\n",
    "        if self.count > 100:\n",
    "            raise StopIteration\n",
    "        return self.count\n",
    "    "
   ]
  },
  {
   "cell_type": "code",
   "execution_count": 79,
   "id": "8bda1233",
   "metadata": {},
   "outputs": [],
   "source": [
    "customer_counter = CustomerCounter()"
   ]
  },
  {
   "cell_type": "code",
   "execution_count": 80,
   "id": "b6c71308",
   "metadata": {},
   "outputs": [
    {
     "name": "stdout",
     "output_type": "stream",
     "text": [
      "1\n",
      "2\n",
      "3\n",
      "4\n",
      "5\n",
      "6\n",
      "7\n",
      "8\n",
      "9\n",
      "10\n",
      "11\n",
      "12\n",
      "13\n",
      "14\n",
      "15\n",
      "16\n",
      "17\n",
      "18\n",
      "19\n",
      "20\n",
      "21\n",
      "22\n",
      "23\n",
      "24\n",
      "25\n",
      "26\n",
      "27\n",
      "28\n",
      "29\n",
      "30\n",
      "31\n",
      "32\n",
      "33\n",
      "34\n",
      "35\n",
      "36\n",
      "37\n",
      "38\n",
      "39\n",
      "40\n",
      "41\n",
      "42\n",
      "43\n",
      "44\n",
      "45\n",
      "46\n",
      "47\n",
      "48\n",
      "49\n",
      "50\n",
      "51\n",
      "52\n",
      "53\n",
      "54\n",
      "55\n",
      "56\n",
      "57\n",
      "58\n",
      "59\n",
      "60\n",
      "61\n",
      "62\n",
      "63\n",
      "64\n",
      "65\n",
      "66\n",
      "67\n",
      "68\n",
      "69\n",
      "70\n",
      "71\n",
      "72\n",
      "73\n",
      "74\n",
      "75\n",
      "76\n",
      "77\n",
      "78\n",
      "79\n",
      "80\n",
      "81\n",
      "82\n",
      "83\n",
      "84\n",
      "85\n",
      "86\n",
      "87\n",
      "88\n",
      "89\n",
      "90\n",
      "91\n",
      "92\n",
      "93\n",
      "94\n",
      "95\n",
      "96\n",
      "97\n",
      "98\n",
      "99\n",
      "100\n"
     ]
    }
   ],
   "source": [
    "for i in customer_counter:\n",
    "    print(i)"
   ]
  },
  {
   "cell_type": "code",
   "execution_count": null,
   "id": "12e45219",
   "metadata": {},
   "outputs": [],
   "source": []
  }
 ],
 "metadata": {
  "kernelspec": {
   "display_name": "Python 3",
   "language": "python",
   "name": "python3"
  },
  "language_info": {
   "codemirror_mode": {
    "name": "ipython",
    "version": 3
   },
   "file_extension": ".py",
   "mimetype": "text/x-python",
   "name": "python",
   "nbconvert_exporter": "python",
   "pygments_lexer": "ipython3",
   "version": "3.8.8"
  }
 },
 "nbformat": 4,
 "nbformat_minor": 5
}
