{
 "cells": [
  {
   "cell_type": "markdown",
   "id": "fd951e81",
   "metadata": {},
   "source": [
    "### Introduction to Iterables"
   ]
  },
  {
   "cell_type": "markdown",
   "id": "a2806fde",
   "metadata": {},
   "source": [
    "iterable is an object that is capable of being looped through one element at a time."
   ]
  },
  {
   "cell_type": "markdown",
   "id": "38efd88d",
   "metadata": {},
   "source": [
    "Dictionaries, lists, tuples, and sets are all classified as iterables."
   ]
  },
  {
   "cell_type": "code",
   "execution_count": 1,
   "id": "34debf3c",
   "metadata": {},
   "outputs": [],
   "source": [
    "dog_foods = {\n",
    "    \"Great Dane Foods\" : 4,\n",
    "    \"Min Pin Pup Foods\" : 10,\n",
    "    \"Pawsome Pups Foods\" : 8}"
   ]
  },
  {
   "cell_type": "code",
   "execution_count": 2,
   "id": "a6fe927b",
   "metadata": {},
   "outputs": [
    {
     "data": {
      "text/plain": [
       "{'Great Dane Foods': 4, 'Min Pin Pup Foods': 10, 'Pawsome Pups Foods': 8}"
      ]
     },
     "execution_count": 2,
     "metadata": {},
     "output_type": "execute_result"
    }
   ],
   "source": [
    "dog_foods"
   ]
  },
  {
   "cell_type": "code",
   "execution_count": 3,
   "id": "4dc0f60a",
   "metadata": {},
   "outputs": [
    {
     "name": "stdout",
     "output_type": "stream",
     "text": [
      "Great Dane Foods has 4 bags\n",
      "Min Pin Pup Foods has 10 bags\n",
      "Pawsome Pups Foods has 8 bags\n"
     ]
    }
   ],
   "source": [
    "for food_brand in dog_foods:\n",
    "    print(food_brand + \" has \" + str(dog_foods[food_brand])+ \" bags\")"
   ]
  },
  {
   "cell_type": "markdown",
   "id": "37e86dfb",
   "metadata": {},
   "source": [
    "iter() function creates an iterator object out of iterables  \n",
    "next() function captures each individual value during the iteration process.  \n",
    "StopIteration exception that forces our loop to stop where there are no elements remaining."
   ]
  },
  {
   "cell_type": "markdown",
   "id": "9976b9bd",
   "metadata": {},
   "source": [
    "#### Iterator Objects: __ iter __() and iter()"
   ]
  },
  {
   "cell_type": "markdown",
   "id": "18f41d08",
   "metadata": {},
   "source": [
    "Under the hood, the first step that the for loop has to do is to convert our dictionary(iterable) of dog_foods to an iterator object. An iterator object is a special object that represents a stream of data that we can operate on. For this, it uses a built-in function called iter():"
   ]
  },
  {
   "cell_type": "code",
   "execution_count": 4,
   "id": "eaedda48",
   "metadata": {},
   "outputs": [],
   "source": [
    "dog_food_iterator = iter(dog_foods)"
   ]
  },
  {
   "cell_type": "code",
   "execution_count": 5,
   "id": "4e9725b6",
   "metadata": {},
   "outputs": [
    {
     "data": {
      "text/plain": [
       "<dict_keyiterator at 0x7f7c0c381b80>"
      ]
     },
     "execution_count": 5,
     "metadata": {},
     "output_type": "execute_result"
    }
   ],
   "source": [
    "dog_food_iterator"
   ]
  },
  {
   "cell_type": "code",
   "execution_count": 6,
   "id": "686b489a",
   "metadata": {},
   "outputs": [
    {
     "name": "stdout",
     "output_type": "stream",
     "text": [
      "<dict_keyiterator object at 0x7f7c0c381b80>\n"
     ]
    }
   ],
   "source": [
    "print(dog_food_iterator)"
   ]
  },
  {
   "cell_type": "markdown",
   "id": "c0ba3a43",
   "metadata": {},
   "source": [
    "To go behind the scenes even further, we can see that the iter(dog_foods) is actually calling a method defined within the iterable called __ iter __(). All iterables have this __ iter __() method defined."
   ]
  },
  {
   "cell_type": "code",
   "execution_count": 7,
   "id": "cb1583f2",
   "metadata": {},
   "outputs": [
    {
     "name": "stdout",
     "output_type": "stream",
     "text": [
      "['__class__', '__contains__', '__delattr__', '__delitem__', '__dir__', '__doc__', '__eq__', '__format__', '__ge__', '__getattribute__', '__getitem__', '__gt__', '__hash__', '__init__', '__init_subclass__', '__iter__', '__le__', '__len__', '__lt__', '__ne__', '__new__', '__reduce__', '__reduce_ex__', '__repr__', '__reversed__', '__setattr__', '__setitem__', '__sizeof__', '__str__', '__subclasshook__', 'clear', 'copy', 'fromkeys', 'get', 'items', 'keys', 'pop', 'popitem', 'setdefault', 'update', 'values']\n"
     ]
    }
   ],
   "source": [
    "print(dir(dog_foods))"
   ]
  },
  {
   "cell_type": "markdown",
   "id": "a9c23cb3",
   "metadata": {},
   "source": [
    "So, in summary, the __ iter __() method simply returns the iterator object that allows us to iterate over the iterable."
   ]
  },
  {
   "cell_type": "markdown",
   "id": "8e9c01f2",
   "metadata": {},
   "source": [
    "dog_foods.__iter__() will retrieve the same iterator object as calling iter(dog_foods)"
   ]
  },
  {
   "cell_type": "markdown",
   "id": "1a6edaa2",
   "metadata": {},
   "source": [
    "#### Iterator Objects: __ next __() and next()"
   ]
  },
  {
   "cell_type": "markdown",
   "id": "7b7bedaa",
   "metadata": {},
   "source": [
    "So, iterator's __ iter __() method is used to create an iterator object, but how does our for loop know which value to retrieve on each iteration?"
   ]
  },
  {
   "cell_type": "markdown",
   "id": "2995544b",
   "metadata": {},
   "source": [
    "The iterator object has a method called __ next __(), which retrieves the iterator's next value."
   ]
  },
  {
   "cell_type": "code",
   "execution_count": 8,
   "id": "919927f7",
   "metadata": {},
   "outputs": [],
   "source": [
    "sku_list = [7046538, 8289407, 9056375, 2308597]"
   ]
  },
  {
   "cell_type": "code",
   "execution_count": 9,
   "id": "464fa471",
   "metadata": {},
   "outputs": [],
   "source": [
    "sku_iterator = iter(sku_list)"
   ]
  },
  {
   "cell_type": "code",
   "execution_count": 10,
   "id": "d2c1984b",
   "metadata": {},
   "outputs": [
    {
     "name": "stdout",
     "output_type": "stream",
     "text": [
      "['__class__', '__delattr__', '__dir__', '__doc__', '__eq__', '__format__', '__ge__', '__getattribute__', '__gt__', '__hash__', '__init__', '__init_subclass__', '__iter__', '__le__', '__length_hint__', '__lt__', '__ne__', '__new__', '__next__', '__reduce__', '__reduce_ex__', '__repr__', '__setattr__', '__setstate__', '__sizeof__', '__str__', '__subclasshook__']\n"
     ]
    }
   ],
   "source": [
    "print(dir(sku_iterator))"
   ]
  },
  {
   "cell_type": "code",
   "execution_count": 11,
   "id": "c3ae55ae",
   "metadata": {},
   "outputs": [],
   "source": [
    "next_sku = sku_iterator.__next__()"
   ]
  },
  {
   "cell_type": "code",
   "execution_count": 12,
   "id": "0d5852bc",
   "metadata": {},
   "outputs": [
    {
     "name": "stdout",
     "output_type": "stream",
     "text": [
      "7046538\n"
     ]
    }
   ],
   "source": [
    "print(next_sku)"
   ]
  },
  {
   "cell_type": "markdown",
   "id": "323b0e35",
   "metadata": {},
   "source": [
    "Similarly to __ iter __() and iter(), there is a Python built-in function called next() that we can use in place of calling the __ next __() method. Calling next() simply calls the iterator object's __ next __() method."
   ]
  },
  {
   "cell_type": "code",
   "execution_count": 13,
   "id": "48bb0fae",
   "metadata": {},
   "outputs": [],
   "source": [
    "sku_iterator1 = iter(sku_list)"
   ]
  },
  {
   "cell_type": "code",
   "execution_count": 14,
   "id": "ffbe27eb",
   "metadata": {},
   "outputs": [],
   "source": [
    "next_sku1 = next(sku_iterator1)"
   ]
  },
  {
   "cell_type": "code",
   "execution_count": 15,
   "id": "da7e9af4",
   "metadata": {},
   "outputs": [
    {
     "name": "stdout",
     "output_type": "stream",
     "text": [
      "7046538\n"
     ]
    }
   ],
   "source": [
    "print(next_sku1)"
   ]
  },
  {
   "cell_type": "markdown",
   "id": "32dc5d09",
   "metadata": {},
   "source": [
    "But how does the iterator object know when to stop retrieving values? Does it keep calling __ next __() forever? Luckily, __ next __() method will raise an exception called StopIteration when all items have been iterated through."
   ]
  },
  {
   "cell_type": "markdown",
   "id": "9f10a1e5",
   "metadata": {},
   "source": [
    "If we call __ next __() a total of 5 times, one more than the total number of SKUs in our list, we will see the StopIteration exception raise on the last __ next __() call"
   ]
  },
  {
   "cell_type": "code",
   "execution_count": 16,
   "id": "ea8fa03c",
   "metadata": {},
   "outputs": [],
   "source": [
    "sku_iterator = iter(sku_list)"
   ]
  },
  {
   "cell_type": "code",
   "execution_count": 17,
   "id": "a6945cd2",
   "metadata": {},
   "outputs": [
    {
     "name": "stdout",
     "output_type": "stream",
     "text": [
      "7046538\n",
      "8289407\n",
      "9056375\n",
      "2308597\n"
     ]
    },
    {
     "ename": "StopIteration",
     "evalue": "",
     "output_type": "error",
     "traceback": [
      "\u001b[0;31m---------------------------------------------------------------------------\u001b[0m",
      "\u001b[0;31mStopIteration\u001b[0m                             Traceback (most recent call last)",
      "\u001b[0;32m<ipython-input-17-5d5e9c34a274>\u001b[0m in \u001b[0;36m<module>\u001b[0;34m\u001b[0m\n\u001b[1;32m      1\u001b[0m \u001b[0;32mfor\u001b[0m \u001b[0mi\u001b[0m \u001b[0;32min\u001b[0m \u001b[0mrange\u001b[0m\u001b[0;34m(\u001b[0m\u001b[0;36m5\u001b[0m\u001b[0;34m)\u001b[0m\u001b[0;34m:\u001b[0m\u001b[0;34m\u001b[0m\u001b[0;34m\u001b[0m\u001b[0m\n\u001b[0;32m----> 2\u001b[0;31m     \u001b[0mnext_sku\u001b[0m \u001b[0;34m=\u001b[0m \u001b[0msku_iterator\u001b[0m\u001b[0;34m.\u001b[0m\u001b[0m__next__\u001b[0m\u001b[0;34m(\u001b[0m\u001b[0;34m)\u001b[0m\u001b[0;34m\u001b[0m\u001b[0;34m\u001b[0m\u001b[0m\n\u001b[0m\u001b[1;32m      3\u001b[0m     \u001b[0mprint\u001b[0m\u001b[0;34m(\u001b[0m\u001b[0mnext_sku\u001b[0m\u001b[0;34m)\u001b[0m\u001b[0;34m\u001b[0m\u001b[0;34m\u001b[0m\u001b[0m\n",
      "\u001b[0;31mStopIteration\u001b[0m: "
     ]
    }
   ],
   "source": [
    "for i in range(5):\n",
    "    next_sku = sku_iterator.__next__()\n",
    "    print(next_sku)"
   ]
  },
  {
   "cell_type": "markdown",
   "id": "79480eb6",
   "metadata": {},
   "source": [
    "So, we can finally see why we needed to create the iterator object. Creating it, allows us to utilize next() or __ next __() to work with the stream of data one piece at a time."
   ]
  },
  {
   "cell_type": "code",
   "execution_count": null,
   "id": "9f28252e",
   "metadata": {},
   "outputs": [],
   "source": [
    "dog_foods = {\n",
    "    \"Great Dane Foods\": 4,\n",
    "    \"Min Pip Pup Foods\": 10,\n",
    "    \"Pawsome Pup Foods\": 8\n",
    "}"
   ]
  },
  {
   "cell_type": "code",
   "execution_count": null,
   "id": "c5b5b42a",
   "metadata": {},
   "outputs": [],
   "source": [
    "dog_food_iterator = iter(dog_foods)"
   ]
  },
  {
   "cell_type": "code",
   "execution_count": null,
   "id": "f5e86588",
   "metadata": {},
   "outputs": [],
   "source": [
    "print(next(dog_food_iterator))"
   ]
  },
  {
   "cell_type": "code",
   "execution_count": null,
   "id": "2886a234",
   "metadata": {},
   "outputs": [],
   "source": [
    "print(next(dog_food_iterator))"
   ]
  },
  {
   "cell_type": "code",
   "execution_count": null,
   "id": "39966260",
   "metadata": {},
   "outputs": [],
   "source": [
    "print(next(dog_food_iterator))"
   ]
  },
  {
   "cell_type": "code",
   "execution_count": null,
   "id": "36328294",
   "metadata": {},
   "outputs": [],
   "source": [
    "print(next(dog_food_iterator))"
   ]
  },
  {
   "cell_type": "markdown",
   "id": "20119239",
   "metadata": {},
   "source": [
    "### Iterators and For Loops"
   ]
  },
  {
   "cell_type": "code",
   "execution_count": null,
   "id": "0f76073f",
   "metadata": {},
   "outputs": [],
   "source": [
    "for food_brand in dog_foods:\n",
    "    print(food_brand + \" has \"+str(dog_foods[food_brand]) + \" bags \")"
   ]
  },
  {
   "cell_type": "markdown",
   "id": "d030ae2c",
   "metadata": {},
   "source": [
    "**The three main steps are**"
   ]
  },
  {
   "cell_type": "markdown",
   "id": "75554467",
   "metadata": {},
   "source": [
    "1. For loop uses the iter() function to convert dog_foods into an iterator object  \n",
    "2. Then, next() is called on each iteration of the for loop to retrieve the next value. This value is set to the for loop's variable, food_brand.  \n",
    "3. On each for loop iteration, the print statement is executed, until finally, the for loop executes a call to next() that raises the StopIteration exception. The for loop then exits and is finished iterating."
   ]
  },
  {
   "cell_type": "markdown",
   "id": "a419f11f",
   "metadata": {},
   "source": [
    "### Custom Iterators I"
   ]
  },
  {
   "cell_type": "markdown",
   "id": "4691b11a",
   "metadata": {},
   "source": [
    "We have seen that the methods __ iter __() and __ next __() must be implemented for an object to be an iterator object. The implementation of these methods is known as the iterator protocol.  \n",
    "If we desire to create our own custom iterator class, we must implement the iterator protocol, meaning we need to have a class that defines at minimum the __ iter __() and __ next __() methods."
   ]
  },
  {
   "cell_type": "markdown",
   "id": "ebe60d2f",
   "metadata": {},
   "source": [
    "To look at a scenario where we might require our own custom iterator, imagine we are receiving a shipment of new fish that we can now sell in our pet store. We don't have any classes to manage our fish inventory, so we need to create a custom class to do so. If we wanted to track the available fish inventory, our custom class initializer may look something like this:"
   ]
  },
  {
   "cell_type": "code",
   "execution_count": null,
   "id": "c4cba904",
   "metadata": {},
   "outputs": [],
   "source": [
    "class FishInventory:\n",
    "    def __init__(self, fishList):\n",
    "        self.available_fish = fishList"
   ]
  },
  {
   "cell_type": "code",
   "execution_count": null,
   "id": "19af20b3",
   "metadata": {},
   "outputs": [],
   "source": [
    "fish_inventory_cls = FishInventory([\"Bubbles\", \"Finley\", \"Moby\"])"
   ]
  },
  {
   "cell_type": "code",
   "execution_count": null,
   "id": "854d8dc2",
   "metadata": {},
   "outputs": [],
   "source": [
    "fish_inventory_cls"
   ]
  },
  {
   "cell_type": "code",
   "execution_count": null,
   "id": "e91c3323",
   "metadata": {},
   "outputs": [],
   "source": [
    "for fish in fish_inventory_cls:\n",
    "    print(fish)"
   ]
  },
  {
   "cell_type": "markdown",
   "id": "5b860eeb",
   "metadata": {},
   "source": [
    "When we create a FishInventory class object, we want to iterate over all the fish available within self.available_fish. If we attempt to directly iterate over our custom FishInventory class object, we will receive an error because we have not yet implemented the iterator protocol for this custom class. To make the FishInventory class iterable, we can simply define __ iter __() and __ next __() methods."
   ]
  },
  {
   "cell_type": "markdown",
   "id": "9e7a5dbb",
   "metadata": {},
   "source": [
    "#### Custom Iterators II"
   ]
  },
  {
   "cell_type": "markdown",
   "id": "35301186",
   "metadata": {},
   "source": [
    "To iterate over a custom class we must implement the iterator protocol by defining the __ iter __() and __ next __() methods. In most cases, the two methods can do the following:"
   ]
  },
  {
   "cell_type": "markdown",
   "id": "19f411a0",
   "metadata": {},
   "source": [
    "* The __ iter __() method must always return the iterator object itself. Typically,this is accomplished by returning self. It can also include some class member initializing.  \n",
    "* The __ next __() method must either return the next value available or raise the StopIteration exception. It can also include any number of operations."
   ]
  },
  {
   "cell_type": "markdown",
   "id": "2765d8a3",
   "metadata": {},
   "source": [
    "We want to make the FishInventory class iterable to see all the available fish. To make it iterable, we first define the __ iter __() method. We can initialize a class member within the __ iter __() method called index that will help us track the current position we're in within the self.available_fish list."
   ]
  },
  {
   "cell_type": "code",
   "execution_count": null,
   "id": "b4fdd0ef",
   "metadata": {},
   "outputs": [],
   "source": [
    "class FishInventory:\n",
    "    def __init__(self, fishList):\n",
    "        self.available_fish = fishList\n",
    "        \n",
    "    def __iter__(self):\n",
    "        self.index = 0\n",
    "        return self"
   ]
  },
  {
   "cell_type": "markdown",
   "id": "167e245e",
   "metadata": {},
   "source": [
    "Notice that the __ iter __() method returns itself since this class will be an iterator object. The __ iter __() methods can return other iterator objects, but typically the object itself is returned here by using return self."
   ]
  },
  {
   "cell_type": "markdown",
   "id": "60daa8d1",
   "metadata": {},
   "source": [
    "Then, we define the __ next __() method . We can also perform operations inside this method, like incrementing class members or traversing a for loop for instance."
   ]
  },
  {
   "cell_type": "code",
   "execution_count": null,
   "id": "24ec2a30",
   "metadata": {},
   "outputs": [],
   "source": [
    "class FishInventory:\n",
    "    def __init__(self, fishList):\n",
    "        self.available_fish = fishList\n",
    "        \n",
    "    def __iter__(self):\n",
    "        self.index = 0\n",
    "        return self\n",
    "    \n",
    "    def __next__(self):\n",
    "        fish_status = self.available_fish[self.index] + \" is available!\"\n",
    "        self.index +=1\n",
    "        return fish_status"
   ]
  },
  {
   "cell_type": "code",
   "execution_count": null,
   "id": "e51d43d6",
   "metadata": {},
   "outputs": [],
   "source": [
    "obj = FishInventory(['Rohu', \"Green\", \"Spade\"])"
   ]
  },
  {
   "cell_type": "code",
   "execution_count": null,
   "id": "a8424d37",
   "metadata": {},
   "outputs": [],
   "source": [
    "print(dir(obj))"
   ]
  },
  {
   "cell_type": "code",
   "execution_count": null,
   "id": "eb2463fd",
   "metadata": {},
   "outputs": [],
   "source": [
    "obj.available_fish"
   ]
  },
  {
   "cell_type": "code",
   "execution_count": 18,
   "id": "61f689dd",
   "metadata": {},
   "outputs": [
    {
     "ename": "NameError",
     "evalue": "name 'obj' is not defined",
     "output_type": "error",
     "traceback": [
      "\u001b[0;31m---------------------------------------------------------------------------\u001b[0m",
      "\u001b[0;31mNameError\u001b[0m                                 Traceback (most recent call last)",
      "\u001b[0;32m<ipython-input-18-773f3b10137b>\u001b[0m in \u001b[0;36m<module>\u001b[0;34m\u001b[0m\n\u001b[0;32m----> 1\u001b[0;31m \u001b[0mobj_iter\u001b[0m \u001b[0;34m=\u001b[0m \u001b[0miter\u001b[0m\u001b[0;34m(\u001b[0m\u001b[0mobj\u001b[0m\u001b[0;34m)\u001b[0m\u001b[0;34m\u001b[0m\u001b[0;34m\u001b[0m\u001b[0m\n\u001b[0m",
      "\u001b[0;31mNameError\u001b[0m: name 'obj' is not defined"
     ]
    }
   ],
   "source": [
    "obj_iter = iter(obj)"
   ]
  },
  {
   "cell_type": "code",
   "execution_count": null,
   "id": "ccaa50fa",
   "metadata": {},
   "outputs": [],
   "source": [
    "print(dir(obj_iter))"
   ]
  },
  {
   "cell_type": "code",
   "execution_count": null,
   "id": "945e4c71",
   "metadata": {},
   "outputs": [],
   "source": [
    "obj_iter.index"
   ]
  },
  {
   "cell_type": "code",
   "execution_count": null,
   "id": "2c7c0d99",
   "metadata": {},
   "outputs": [],
   "source": [
    "next(obj_iter)"
   ]
  },
  {
   "cell_type": "code",
   "execution_count": null,
   "id": "4632eb2e",
   "metadata": {},
   "outputs": [],
   "source": [
    "next(obj_iter)"
   ]
  },
  {
   "cell_type": "code",
   "execution_count": null,
   "id": "ab603390",
   "metadata": {},
   "outputs": [],
   "source": [
    "next(obj_iter)"
   ]
  },
  {
   "cell_type": "markdown",
   "id": "1469cf17",
   "metadata": {},
   "source": [
    "Here we return the next available fish status within a string value and increment our class member index by 1. Iterating over this class object will eventually error out since we fail to do any checking of our index value against the length of the self.available_fish list. We can avoid this and cleanly stop the iterator by raising the StopIteration exception in our __ next __() method. Here, we'll modify our __ next __() method to raise StopIteration if index exceeds the length of available_fish."
   ]
  },
  {
   "cell_type": "code",
   "execution_count": null,
   "id": "386b11f8",
   "metadata": {},
   "outputs": [],
   "source": [
    "class FishInventory:\n",
    "    def __init__(self, fishList):\n",
    "        self.available_fish = fishList\n",
    "        \n",
    "    def __iter__(self):\n",
    "        self.index = 0\n",
    "        return self\n",
    "    \n",
    "    def __next__(self):\n",
    "        if self.index < len(self.available_fish):\n",
    "            fish_status = self.available_fish[self.index] + \" is available!\"\n",
    "            self.index +=1\n",
    "            return fish_status\n",
    "        else:\n",
    "            raise StopIteration\n",
    "        "
   ]
  },
  {
   "cell_type": "code",
   "execution_count": null,
   "id": "2b1b9735",
   "metadata": {},
   "outputs": [],
   "source": [
    "obj = FishInventory(['Rohu', 'Spade', 'Shark'])"
   ]
  },
  {
   "cell_type": "code",
   "execution_count": null,
   "id": "7d38e03b",
   "metadata": {},
   "outputs": [],
   "source": [
    "obj_iter = iter(obj)"
   ]
  },
  {
   "cell_type": "code",
   "execution_count": null,
   "id": "06317313",
   "metadata": {},
   "outputs": [],
   "source": [
    "obj_iter"
   ]
  },
  {
   "cell_type": "code",
   "execution_count": null,
   "id": "ad77b69e",
   "metadata": {},
   "outputs": [],
   "source": [
    "next(obj_iter)"
   ]
  },
  {
   "cell_type": "code",
   "execution_count": null,
   "id": "c84f1034",
   "metadata": {},
   "outputs": [],
   "source": [
    "next(obj_iter)"
   ]
  },
  {
   "cell_type": "code",
   "execution_count": null,
   "id": "f691ec1a",
   "metadata": {},
   "outputs": [],
   "source": [
    "next(obj_iter)"
   ]
  },
  {
   "cell_type": "code",
   "execution_count": null,
   "id": "488140c8",
   "metadata": {},
   "outputs": [],
   "source": [
    "next(obj_iter)"
   ]
  },
  {
   "cell_type": "code",
   "execution_count": null,
   "id": "f27e6796",
   "metadata": {},
   "outputs": [],
   "source": [
    "class CustomerCounter:\n",
    "\n",
    "# Write your code below:\n",
    "  def __iter__(self):\n",
    "    self.count = 0\n",
    "    return self\n",
    "\n",
    "  def __next__(self):\n",
    "    self.count +=1\n",
    "    if self.count > 100:\n",
    "      raise StopIteration\n",
    "    return self.count\n",
    "    \n",
    "\n",
    "customer_counter = CustomerCounter()\n",
    "for val in customer_counter:\n",
    "  print(val)"
   ]
  },
  {
   "cell_type": "code",
   "execution_count": null,
   "id": "d6f6c086",
   "metadata": {},
   "outputs": [],
   "source": [
    "class FishInventory:\n",
    "    def __init__(self, fishList):\n",
    "        self.available_fish = fishList\n",
    "        \n",
    "    def __iter__(self):\n",
    "        self.index = 0\n",
    "        return self\n",
    "    \n",
    "    def __next__(self):\n",
    "        fish_status = self.available_fish[self.index] + \" is available!\"\n",
    "        self.index +=1\n",
    "        return fish_status\n",
    "    "
   ]
  },
  {
   "cell_type": "code",
   "execution_count": null,
   "id": "9db3bbef",
   "metadata": {},
   "outputs": [],
   "source": [
    "obj = FishInventory(['Rohu', 'Spade', 'Honey', 'Star'])"
   ]
  },
  {
   "cell_type": "code",
   "execution_count": null,
   "id": "bf154e0f",
   "metadata": {},
   "outputs": [],
   "source": [
    "obj"
   ]
  },
  {
   "cell_type": "code",
   "execution_count": null,
   "id": "d3836685",
   "metadata": {},
   "outputs": [],
   "source": [
    "type(obj)"
   ]
  },
  {
   "cell_type": "code",
   "execution_count": null,
   "id": "efbe3bbb",
   "metadata": {},
   "outputs": [],
   "source": [
    "print(dir(obj))"
   ]
  },
  {
   "cell_type": "code",
   "execution_count": null,
   "id": "2aafab82",
   "metadata": {},
   "outputs": [],
   "source": [
    "for val in obj:\n",
    "    print(val)"
   ]
  },
  {
   "cell_type": "code",
   "execution_count": null,
   "id": "1656f8df",
   "metadata": {},
   "outputs": [],
   "source": [
    "class FishInventory:\n",
    "    def __init__(self, fishList):\n",
    "        self.available_fish = fishList\n",
    "        \n",
    "    def __iter__(self):\n",
    "        self.index = 0\n",
    "        return self\n",
    "    \n",
    "    def __next__(self):\n",
    "        if self.index < len(self.available_fish):\n",
    "            fish_status = self.available_fish[self.index] + \" is available!\"\n",
    "            self.index +=1\n",
    "            return fish_status\n",
    "        else:\n",
    "            raise StopIteration\n",
    "    "
   ]
  },
  {
   "cell_type": "code",
   "execution_count": null,
   "id": "accdaab4",
   "metadata": {},
   "outputs": [],
   "source": [
    "obj1 = FishInventory(['Rohu', 'Salmon', 'Seamone', 'Birdy'])"
   ]
  },
  {
   "cell_type": "code",
   "execution_count": null,
   "id": "a08fbf4d",
   "metadata": {},
   "outputs": [],
   "source": [
    "for i in obj1:\n",
    "    print(i)"
   ]
  },
  {
   "cell_type": "code",
   "execution_count": null,
   "id": "fe84cace",
   "metadata": {},
   "outputs": [],
   "source": [
    "class CustomerCounter:\n",
    "    def __init__(self):\n",
    "        pass\n",
    "    \n",
    "    def __iter__(self):\n",
    "        self.count = 0\n",
    "        return self\n",
    "    \n",
    "    def __next__(self):\n",
    "        self.count +=1\n",
    "        if self.count > 100:\n",
    "            raise StopIteration\n",
    "        return self.count\n",
    "    "
   ]
  },
  {
   "cell_type": "code",
   "execution_count": null,
   "id": "0f33894a",
   "metadata": {},
   "outputs": [],
   "source": [
    "customer_counter = CustomerCounter()"
   ]
  },
  {
   "cell_type": "code",
   "execution_count": null,
   "id": "23e8462b",
   "metadata": {},
   "outputs": [],
   "source": [
    "for i in customer_counter:\n",
    "    print(i)"
   ]
  },
  {
   "cell_type": "markdown",
   "id": "24098bab",
   "metadata": {},
   "source": [
    "#### Python's Itertools: Built-in Iterators"
   ]
  },
  {
   "cell_type": "markdown",
   "id": "996a8827",
   "metadata": {},
   "source": [
    "While building our own custom iterator classes can be useful, Python offers a convenient, built-in module named itertools that provides the ability to create complex iterator manipulations. These iterator operations can input either a single iterable or a combination of them."
   ]
  },
  {
   "cell_type": "markdown",
   "id": "d789a755",
   "metadata": {},
   "source": [
    "There are three categories of itertool iterators:  \n",
    "* Infinite: Infinite iterators will repeat an infinite number of times. They will not raise a StopIteration exception and will require some type of stop condition to exit from.  \n",
    "* Finite: Finite iterators are terminated by the input iterable(s) sequence length. This means that the smallest length iterable used in a finite iterator will terminate the iterator.  \n",
    "* Combinatoric: Combinatoric iterators are iterators that are combinational, where mathematical functions are performed on the input iterable(s)."
   ]
  },
  {
   "cell_type": "code",
   "execution_count": null,
   "id": "2d66290a",
   "metadata": {},
   "outputs": [],
   "source": [
    "import itertools"
   ]
  },
  {
   "cell_type": "markdown",
   "id": "b5e8d27d",
   "metadata": {},
   "source": [
    "**Infinite Iterators**"
   ]
  },
  {
   "cell_type": "markdown",
   "id": "0e95f715",
   "metadata": {},
   "source": [
    "count()  \n",
    "cycle()\n",
    "repeat()  \n",
    "These iterators repeat an infinite number of times and require some type of stop condition to exit from."
   ]
  },
  {
   "cell_type": "markdown",
   "id": "861fa035",
   "metadata": {},
   "source": [
    "**Finite Iterators**"
   ]
  },
  {
   "cell_type": "markdown",
   "id": "33ef0a76",
   "metadata": {},
   "source": [
    "chain()  \n",
    "compress()  \n",
    "filterfalse()  "
   ]
  },
  {
   "cell_type": "markdown",
   "id": "9efc2d32",
   "metadata": {},
   "source": [
    "These iterators are terminated by the input iterator(s) sequence length.  "
   ]
  },
  {
   "cell_type": "markdown",
   "id": "beb57db8",
   "metadata": {},
   "source": [
    "**Combinatoric Iterators**"
   ]
  },
  {
   "cell_type": "markdown",
   "id": "c198e800",
   "metadata": {},
   "source": [
    "product()  \n",
    "permutations()  \n",
    "combinations()"
   ]
  },
  {
   "cell_type": "markdown",
   "id": "e7a1dfac",
   "metadata": {},
   "source": [
    "Iterators in which combinational mathematical functions are performed on."
   ]
  },
  {
   "cell_type": "markdown",
   "id": "75675e5e",
   "metadata": {},
   "source": [
    "#### Infinite Iterator: Count"
   ]
  },
  {
   "cell_type": "markdown",
   "id": "45489c37",
   "metadata": {},
   "source": [
    "An infinite iterator will repeat an infinite number of times with no endpoint and no StopIteration exception raised. Infinite iterators are useful when we have unbounded streams of data to process.  "
   ]
  },
  {
   "cell_type": "markdown",
   "id": "fa8d3a7a",
   "metadata": {},
   "source": [
    "A useful itertool that is an infinite iterator is count() itertool. This infinite iterator will count from a first value until we provide some type of stop condition. The base syntax of the function looks like this:  \n",
    "count(start, [step])"
   ]
  },
  {
   "cell_type": "markdown",
   "id": "d49dce32",
   "metadata": {},
   "source": [
    "The step value can be positive, negative, and an integer or float number. "
   ]
  },
  {
   "cell_type": "markdown",
   "id": "39f27408",
   "metadata": {},
   "source": [
    "Suppose we want to quickly count up and print all even numbers from 0 to 20."
   ]
  },
  {
   "cell_type": "markdown",
   "id": "c318ac18",
   "metadata": {},
   "source": [
    "We first import our itertools module and then create a loop (this can be a while loop or a for loop), that will iterate through our count() iterator:"
   ]
  },
  {
   "cell_type": "code",
   "execution_count": 19,
   "id": "42a19908",
   "metadata": {},
   "outputs": [
    {
     "name": "stdout",
     "output_type": "stream",
     "text": [
      "0\n",
      "2\n",
      "4\n",
      "6\n",
      "8\n",
      "10\n",
      "12\n",
      "14\n",
      "16\n",
      "18\n",
      "20\n"
     ]
    }
   ],
   "source": [
    "import itertools\n",
    "for i in itertools.count(start = 0, step = 2):\n",
    "    print(i)\n",
    "    if i == 20:\n",
    "        break"
   ]
  },
  {
   "cell_type": "markdown",
   "id": "67cb8323",
   "metadata": {},
   "source": [
    "We have several 13.5lb bags of dog food to display. Our single shelving unit however can only hold a maximum of 1,000lbs. Let’s figure out how many bags of food we can display!\n",
    "\n",
    "First, import the itertools module at the top line of the code editor."
   ]
  },
  {
   "cell_type": "code",
   "execution_count": 20,
   "id": "228b576c",
   "metadata": {},
   "outputs": [
    {
     "data": {
      "text/plain": [
       "74.07407407407408"
      ]
     },
     "execution_count": 20,
     "metadata": {},
     "output_type": "execute_result"
    }
   ],
   "source": [
    "import itertools\n",
    "1000 / 13.5"
   ]
  },
  {
   "cell_type": "markdown",
   "id": "a80ca725",
   "metadata": {},
   "source": [
    "Next, initialize a for loop with a count() iterator that keeps track of the weight on the shelf.\n",
    "\n",
    "Within the for loop body:\n",
    "\n",
    "Provide a stop condition using max_capacity to terminate the loop\n",
    "Increment num_bags on each iteration."
   ]
  },
  {
   "cell_type": "code",
   "execution_count": 21,
   "id": "b16485f7",
   "metadata": {},
   "outputs": [
    {
     "name": "stdout",
     "output_type": "stream",
     "text": [
      "74\n"
     ]
    }
   ],
   "source": [
    "max_capacity = 1000\n",
    "num_bags = 0\n",
    "for i in itertools.count(start = 13.5, step = 13.5):\n",
    "    if i >= max_capacity:\n",
    "        break\n",
    "    num_bags +=1\n",
    "print(num_bags)"
   ]
  },
  {
   "cell_type": "markdown",
   "id": "e627400d",
   "metadata": {},
   "source": [
    "#### Finite Iterator: Chain"
   ]
  },
  {
   "cell_type": "markdown",
   "id": "4db354cf",
   "metadata": {},
   "source": [
    "A finite iterator will terminate based on the length of one or more input values. Finite iterators are great for working with and modifying existing iterators."
   ]
  },
  {
   "cell_type": "markdown",
   "id": "8091103b",
   "metadata": {},
   "source": [
    "A useful itertool that is a finite iterator is the chain() itertool. This finite iterator will take in one or more iterables and combine them into a single iterator. \n",
    "\n",
    "chain(*iterables)  \n"
   ]
  },
  {
   "cell_type": "markdown",
   "id": "0564e46e",
   "metadata": {},
   "source": [
    "We can use the chain() itertool to combine a list and a set into one iterator"
   ]
  },
  {
   "cell_type": "markdown",
   "id": "ce6e25e7",
   "metadata": {},
   "source": [
    "Example combining a list containing odd numbers and a set containing even numbers"
   ]
  },
  {
   "cell_type": "code",
   "execution_count": 22,
   "id": "48160abc",
   "metadata": {},
   "outputs": [
    {
     "name": "stdout",
     "output_type": "stream",
     "text": [
      "5\n",
      "7\n",
      "9\n",
      "8\n",
      "10\n",
      "6\n"
     ]
    }
   ],
   "source": [
    "import itertools\n",
    "odd = [5,7,9]\n",
    "even = {6, 8, 10}\n",
    "all_numbers = itertools.chain(odd, even)\n",
    "for number in all_numbers:\n",
    "    print(number)\n",
    "    "
   ]
  },
  {
   "cell_type": "code",
   "execution_count": 23,
   "id": "49068d60",
   "metadata": {},
   "outputs": [
    {
     "name": "stdout",
     "output_type": "stream",
     "text": [
      "<itertools.chain object at 0x7f7c0c271df0>\n"
     ]
    }
   ],
   "source": [
    "print(all_numbers)"
   ]
  },
  {
   "cell_type": "markdown",
   "id": "83170ba2",
   "metadata": {},
   "source": [
    "* sets all_numbers to the iterator returned by the itertool chain()\n",
    "* uses the list iterable odd and the set iterable even as the arguments to chain().\n",
    "* Implements a for loop using the iterator in all_numbers"
   ]
  },
  {
   "cell_type": "code",
   "execution_count": 24,
   "id": "2221ebd0",
   "metadata": {},
   "outputs": [],
   "source": [
    "import itertools\n",
    "\n",
    "great_dane_foods = [2439176, 3174521, 3560031]\n",
    "min_pin_pup_foods = [6821904, 3302083]\n",
    "pawsome_pup_foods = [9664865]\n",
    "\n",
    "# Write your code below: \n",
    "all_skus_iterator = itertools.chain(great_dane_foods, min_pin_pup_foods, pawsome_pup_foods)"
   ]
  },
  {
   "cell_type": "code",
   "execution_count": 25,
   "id": "da498b79",
   "metadata": {},
   "outputs": [
    {
     "data": {
      "text/plain": [
       "<itertools.chain at 0x7f7c0c2f2400>"
      ]
     },
     "execution_count": 25,
     "metadata": {},
     "output_type": "execute_result"
    }
   ],
   "source": [
    "all_skus_iterator"
   ]
  },
  {
   "cell_type": "code",
   "execution_count": 26,
   "id": "757641df",
   "metadata": {},
   "outputs": [
    {
     "data": {
      "text/plain": [
       "2439176"
      ]
     },
     "execution_count": 26,
     "metadata": {},
     "output_type": "execute_result"
    }
   ],
   "source": [
    "next(all_skus_iterator)"
   ]
  },
  {
   "cell_type": "markdown",
   "id": "7eb7b012",
   "metadata": {},
   "source": [
    "#### Combinatoric Iterator: Combinations"
   ]
  },
  {
   "cell_type": "markdown",
   "id": "b31a825f",
   "metadata": {},
   "source": [
    "A combinatoric iterator will perform a set of statistical or mathematical operations on an input iterable."
   ]
  },
  {
   "cell_type": "markdown",
   "id": "fa788373",
   "metadata": {},
   "source": [
    "combinations() itertool will produce an iterator of tuples that contain combinations of all elements in the input"
   ]
  },
  {
   "cell_type": "markdown",
   "id": "0fbc55aa",
   "metadata": {},
   "source": [
    "**combinations(iterable, r)**"
   ]
  },
  {
   "cell_type": "markdown",
   "id": "f8596738",
   "metadata": {},
   "source": [
    "The combinations itertool takes in two inputs, the first is an iterable, and the second is a value r that represents the length of each combination tuple."
   ]
  },
  {
   "cell_type": "markdown",
   "id": "93d64672",
   "metadata": {},
   "source": [
    "The return type of combinations() is an iterator that can be used in a for loop or can be converted into an iterable type using list() or set()."
   ]
  },
  {
   "cell_type": "markdown",
   "id": "5db795e7",
   "metadata": {},
   "source": [
    "Suppose we have a list of even numbers and we want all possible combinations of 2 even numbers"
   ]
  },
  {
   "cell_type": "code",
   "execution_count": 27,
   "id": "b064e41d",
   "metadata": {},
   "outputs": [],
   "source": [
    "import itertools\n",
    "even = [2,4,6]\n",
    "even_combinations = list(itertools.combinations(even, 2))"
   ]
  },
  {
   "cell_type": "code",
   "execution_count": 28,
   "id": "3ca88787",
   "metadata": {},
   "outputs": [
    {
     "data": {
      "text/plain": [
       "[(2, 4), (2, 6), (4, 6)]"
      ]
     },
     "execution_count": 28,
     "metadata": {},
     "output_type": "execute_result"
    }
   ],
   "source": [
    "even_combinations"
   ]
  },
  {
   "cell_type": "code",
   "execution_count": 29,
   "id": "b7450286",
   "metadata": {},
   "outputs": [],
   "source": [
    "# The resulting list of 2 member tuples are the\n",
    "# combinations of all 3 members of even"
   ]
  },
  {
   "cell_type": "markdown",
   "id": "7439d8e5",
   "metadata": {},
   "source": [
    "\n",
    "We have another shelving unit to display by the register that can only hold 3 collars. We have a list of collars of varying colors and sizes.\n",
    "\n",
    "We want to know how many different combinations exist to display a set of 3 collars. Use the combinations() itertool to do this. Set the returned iterator to a variable named collar_combo_iterator."
   ]
  },
  {
   "cell_type": "code",
   "execution_count": 30,
   "id": "edfd8f37",
   "metadata": {},
   "outputs": [
    {
     "name": "stdout",
     "output_type": "stream",
     "text": [
      "('Red-S', 'Red-M', 'Blue-XS')\n",
      "('Red-S', 'Red-M', 'Green-L')\n",
      "('Red-S', 'Red-M', 'Green-XL')\n",
      "('Red-S', 'Red-M', 'Yellow-M')\n",
      "('Red-S', 'Blue-XS', 'Green-L')\n",
      "('Red-S', 'Blue-XS', 'Green-XL')\n",
      "('Red-S', 'Blue-XS', 'Yellow-M')\n",
      "('Red-S', 'Green-L', 'Green-XL')\n",
      "('Red-S', 'Green-L', 'Yellow-M')\n",
      "('Red-S', 'Green-XL', 'Yellow-M')\n",
      "('Red-M', 'Blue-XS', 'Green-L')\n",
      "('Red-M', 'Blue-XS', 'Green-XL')\n",
      "('Red-M', 'Blue-XS', 'Yellow-M')\n",
      "('Red-M', 'Green-L', 'Green-XL')\n",
      "('Red-M', 'Green-L', 'Yellow-M')\n",
      "('Red-M', 'Green-XL', 'Yellow-M')\n",
      "('Blue-XS', 'Green-L', 'Green-XL')\n",
      "('Blue-XS', 'Green-L', 'Yellow-M')\n",
      "('Blue-XS', 'Green-XL', 'Yellow-M')\n",
      "('Green-L', 'Green-XL', 'Yellow-M')\n"
     ]
    }
   ],
   "source": [
    "import itertools\n",
    "\n",
    "collars = [\"Red-S\",\"Red-M\", \"Blue-XS\", \"Green-L\", \"Green-XL\", \"Yellow-M\"]\n",
    "\n",
    "# Write your code below: \n",
    "collar_combo_iterator = itertools.combinations(collars, 3)\n",
    "\n",
    "for item in collar_combo_iterator:\n",
    "  print(item)"
   ]
  },
  {
   "cell_type": "code",
   "execution_count": 31,
   "id": "4d5ed455",
   "metadata": {},
   "outputs": [],
   "source": [
    "import itertools\n",
    "\n",
    "max_money = 15\n",
    "options = []\n",
    "cat_toys = [('laser', 1.99), ('fountain', 5.99), ('scratcher', 10.99), ('catnip', 15.99)]\n",
    "\n",
    "cat_toy_iterator = iter(cat_toys)"
   ]
  },
  {
   "cell_type": "code",
   "execution_count": 32,
   "id": "43869a9f",
   "metadata": {},
   "outputs": [],
   "source": [
    "toy_combos = itertools.combinations(cat_toys, 2)"
   ]
  },
  {
   "cell_type": "code",
   "execution_count": 33,
   "id": "fc576d61",
   "metadata": {},
   "outputs": [
    {
     "data": {
      "text/plain": [
       "[(('laser', 1.99), ('fountain', 5.99)),\n",
       " (('laser', 1.99), ('scratcher', 10.99)),\n",
       " (('laser', 1.99), ('catnip', 15.99)),\n",
       " (('fountain', 5.99), ('scratcher', 10.99)),\n",
       " (('fountain', 5.99), ('catnip', 15.99)),\n",
       " (('scratcher', 10.99), ('catnip', 15.99))]"
      ]
     },
     "execution_count": 33,
     "metadata": {},
     "output_type": "execute_result"
    }
   ],
   "source": [
    "list(toy_combos)"
   ]
  },
  {
   "cell_type": "code",
   "execution_count": 34,
   "id": "3ee14109",
   "metadata": {},
   "outputs": [
    {
     "name": "stdout",
     "output_type": "stream",
     "text": [
      "('laser', 1.99)\n",
      "('fountain', 5.99)\n",
      "('scratcher', 10.99)\n",
      "('catnip', 15.99)\n",
      "[(('laser', 1.99), ('fountain', 5.99)), (('laser', 1.99), ('scratcher', 10.99))]\n"
     ]
    }
   ],
   "source": [
    "# Write your code below:\n",
    "import itertools\n",
    "\n",
    "max_money = 15\n",
    "options = []\n",
    "cat_toys = [('laser', 1.99), ('fountain', 5.99), ('scratcher', 10.99), ('catnip', 15.99)]\n",
    "\n",
    "cat_toy_iterator = iter(cat_toys)\n",
    "\n",
    "print(next(cat_toy_iterator))\n",
    "print(next(cat_toy_iterator))\n",
    "print(next(cat_toy_iterator))\n",
    "print(next(cat_toy_iterator))\n",
    "\n",
    "toy_combos = itertools.combinations(cat_toys, 2)\n",
    "for combo in toy_combos:\n",
    "    toy1 = combo[0]\n",
    "    cost_of_toy1 = toy1[1]\n",
    "    toy2 = combo[1]\n",
    "    cost_of_toy2 = toy2[1]\n",
    "    if cost_of_toy1 + cost_of_toy2 <= max_money:\n",
    "      options.append(combo)\n",
    "\n",
    "print(options)"
   ]
  },
  {
   "cell_type": "code",
   "execution_count": 1,
   "id": "8e58a3eb",
   "metadata": {},
   "outputs": [],
   "source": [
    "import itertools\n",
    "max_money = 15\n",
    "options = []\n",
    "cat_toys = [('laser', 1.99), ('fountain', 5.99), ('scratcher', 10.99), ('catnip', 15.99)]"
   ]
  },
  {
   "cell_type": "code",
   "execution_count": 8,
   "id": "6300428e",
   "metadata": {},
   "outputs": [
    {
     "data": {
      "text/plain": [
       "[('laser', 1.99), ('fountain', 5.99), ('scratcher', 10.99), ('catnip', 15.99)]"
      ]
     },
     "execution_count": 8,
     "metadata": {},
     "output_type": "execute_result"
    }
   ],
   "source": [
    "cat_toys"
   ]
  },
  {
   "cell_type": "code",
   "execution_count": 9,
   "id": "9fa6e80d",
   "metadata": {},
   "outputs": [],
   "source": [
    "cat_toy_iterator = iter(cat_toys)"
   ]
  },
  {
   "cell_type": "code",
   "execution_count": 4,
   "id": "11224162",
   "metadata": {},
   "outputs": [
    {
     "data": {
      "text/plain": [
       "<list_iterator at 0x7f47082aabb0>"
      ]
     },
     "execution_count": 4,
     "metadata": {},
     "output_type": "execute_result"
    }
   ],
   "source": [
    "cat_toy_iterator"
   ]
  },
  {
   "cell_type": "code",
   "execution_count": 5,
   "id": "47f35f81",
   "metadata": {},
   "outputs": [
    {
     "data": {
      "text/plain": [
       "('laser', 1.99)"
      ]
     },
     "execution_count": 5,
     "metadata": {},
     "output_type": "execute_result"
    }
   ],
   "source": [
    "next(cat_toy_iterator)"
   ]
  },
  {
   "cell_type": "code",
   "execution_count": 7,
   "id": "6ead4f45",
   "metadata": {},
   "outputs": [
    {
     "data": {
      "text/plain": [
       "[('fountain', 5.99), ('scratcher', 10.99), ('catnip', 15.99)]"
      ]
     },
     "execution_count": 7,
     "metadata": {},
     "output_type": "execute_result"
    }
   ],
   "source": [
    "list(cat_toy_iterator)"
   ]
  },
  {
   "cell_type": "markdown",
   "id": "ed3b0065",
   "metadata": {},
   "source": [
    "A customer enters and only has $15 to spend on exactly 2 cat toys. They want to know how many combinations of the available toys they can afford, while only getting 2 of them total."
   ]
  },
  {
   "cell_type": "code",
   "execution_count": 10,
   "id": "a265cd75",
   "metadata": {},
   "outputs": [
    {
     "data": {
      "text/plain": [
       "[('laser', 1.99), ('fountain', 5.99), ('scratcher', 10.99), ('catnip', 15.99)]"
      ]
     },
     "execution_count": 10,
     "metadata": {},
     "output_type": "execute_result"
    }
   ],
   "source": [
    "cat_toys"
   ]
  },
  {
   "cell_type": "code",
   "execution_count": 25,
   "id": "7acc32c9",
   "metadata": {},
   "outputs": [],
   "source": [
    "toy_combos = itertools.combinations(cat_toys, 2)"
   ]
  },
  {
   "cell_type": "code",
   "execution_count": 21,
   "id": "d2fb780b",
   "metadata": {},
   "outputs": [
    {
     "data": {
      "text/plain": [
       "(('laser', 1.99), ('fountain', 5.99))"
      ]
     },
     "execution_count": 21,
     "metadata": {},
     "output_type": "execute_result"
    }
   ],
   "source": [
    "list(toy_combos)[0]"
   ]
  },
  {
   "cell_type": "code",
   "execution_count": 26,
   "id": "2513e56b",
   "metadata": {},
   "outputs": [],
   "source": [
    "for combo in toy_combos:\n",
    "    toy1 = combo[0]\n",
    "    cost_of_toy1 = toy1[1]\n",
    "    toy2 = combo[1]\n",
    "    cost_of_toy2 = toy2[1]\n",
    "    if cost_of_toy1 + cost_of_toy2 <=max_money:\n",
    "        options.append(combo)"
   ]
  },
  {
   "cell_type": "code",
   "execution_count": 27,
   "id": "34774529",
   "metadata": {},
   "outputs": [
    {
     "data": {
      "text/plain": [
       "[(('laser', 1.99), ('fountain', 5.99)),\n",
       " (('laser', 1.99), ('scratcher', 10.99))]"
      ]
     },
     "execution_count": 27,
     "metadata": {},
     "output_type": "execute_result"
    }
   ],
   "source": [
    "options"
   ]
  },
  {
   "cell_type": "code",
   "execution_count": 28,
   "id": "ae0db43a",
   "metadata": {},
   "outputs": [
    {
     "name": "stdout",
     "output_type": "stream",
     "text": [
      "[(('laser', 1.99), ('fountain', 5.99)), (('laser', 1.99), ('scratcher', 10.99))]\n"
     ]
    }
   ],
   "source": [
    "print(options)"
   ]
  },
  {
   "cell_type": "code",
   "execution_count": null,
   "id": "c866177d",
   "metadata": {},
   "outputs": [],
   "source": []
  }
 ],
 "metadata": {
  "kernelspec": {
   "display_name": "Python 3",
   "language": "python",
   "name": "python3"
  },
  "language_info": {
   "codemirror_mode": {
    "name": "ipython",
    "version": 3
   },
   "file_extension": ".py",
   "mimetype": "text/x-python",
   "name": "python",
   "nbconvert_exporter": "python",
   "pygments_lexer": "ipython3",
   "version": "3.8.8"
  }
 },
 "nbformat": 4,
 "nbformat_minor": 5
}
