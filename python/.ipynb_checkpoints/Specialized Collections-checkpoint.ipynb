{
 "cells": [
  {
   "cell_type": "markdown",
   "id": "c713d31d",
   "metadata": {},
   "source": [
    "**Use specialized Python collections to create more efficient programs!**"
   ]
  },
  {
   "cell_type": "markdown",
   "id": "190254dd",
   "metadata": {},
   "source": [
    "### Sets"
   ]
  },
  {
   "cell_type": "markdown",
   "id": "cfd593ca",
   "metadata": {},
   "source": [
    "**Introduction to Python Sets**"
   ]
  },
  {
   "cell_type": "markdown",
   "id": "6e0d46c1",
   "metadata": {},
   "source": [
    "In Python, a set is a group of elements that are unordered and do not contain duplicates."
   ]
  },
  {
   "cell_type": "markdown",
   "id": "4ccf60ef",
   "metadata": {},
   "source": [
    "For example, we can imagine two different groups of items that have some similarities and differences. Using set mathematics, we can find the matching items, differences, combine the sets based on different parameters, and more!"
   ]
  },
  {
   "cell_type": "markdown",
   "id": "6969a025",
   "metadata": {},
   "source": [
    "Alternatively, there is also an immutable version of a set called a frozenset. A frozenset behaves similarly to a normal set, but it does not include methods that modify the frozenset in any way. "
   ]
  },
  {
   "cell_type": "markdown",
   "id": "55fbd685",
   "metadata": {},
   "source": [
    "* How to create a set and a frozenset.  \n",
    "* How to add to a set (we won't be able to mutate a frozenset).\n",
    "* How to remove from a set (we won't be able to mutate a frozenset).\n",
    "* How to find specific elements in a set and a frozenset.  \n",
    "* How to perform set operations such as unions, intersections, and more."
   ]
  },
  {
   "cell_type": "markdown",
   "id": "3c961ae7",
   "metadata": {},
   "source": [
    "**A set object can be created by passing an interable object into its constructor, using curly braces, or using a set comprehension.**"
   ]
  },
  {
   "cell_type": "code",
   "execution_count": 1,
   "id": "b7d180d8",
   "metadata": {},
   "outputs": [],
   "source": [
    "music_genres = {'country', 'punk', 'rap', 'techno', 'pop','latin'}"
   ]
  },
  {
   "cell_type": "code",
   "execution_count": 2,
   "id": "a0af5c09",
   "metadata": {},
   "outputs": [
    {
     "data": {
      "text/plain": [
       "{'country', 'latin', 'pop', 'punk', 'rap', 'techno'}"
      ]
     },
     "execution_count": 2,
     "metadata": {},
     "output_type": "execute_result"
    }
   ],
   "source": [
    "music_genres"
   ]
  },
  {
   "cell_type": "code",
   "execution_count": 3,
   "id": "49966265",
   "metadata": {},
   "outputs": [],
   "source": [
    "music_genres1 = set(['country', 'punk', 'rap', 'techno', 'pop', 'latin'])"
   ]
  },
  {
   "cell_type": "code",
   "execution_count": 4,
   "id": "eaa44d32",
   "metadata": {},
   "outputs": [
    {
     "data": {
      "text/plain": [
       "{'country', 'latin', 'pop', 'punk', 'rap', 'techno'}"
      ]
     },
     "execution_count": 4,
     "metadata": {},
     "output_type": "execute_result"
    }
   ],
   "source": [
    "music_genres1"
   ]
  },
  {
   "cell_type": "code",
   "execution_count": 5,
   "id": "9dbdf356",
   "metadata": {},
   "outputs": [],
   "source": [
    "music_genres_3 = set(['country', 'punk', 'rap', 'pop', 'pop', 'pop'])"
   ]
  },
  {
   "cell_type": "code",
   "execution_count": 6,
   "id": "cfa417dd",
   "metadata": {},
   "outputs": [
    {
     "data": {
      "text/plain": [
       "{'country', 'pop', 'punk', 'rap'}"
      ]
     },
     "execution_count": 6,
     "metadata": {},
     "output_type": "execute_result"
    }
   ],
   "source": [
    "music_genres_3"
   ]
  },
  {
   "cell_type": "code",
   "execution_count": 7,
   "id": "f3aaef3c",
   "metadata": {},
   "outputs": [],
   "source": [
    "#can use any data types as long as they are unique\n",
    "music_difference = {70, 'music times', 'categories', True, 'country', 45.7}"
   ]
  },
  {
   "cell_type": "code",
   "execution_count": 8,
   "id": "099d77cd",
   "metadata": {},
   "outputs": [
    {
     "data": {
      "text/plain": [
       "{45.7, 70, True, 'categories', 'country', 'music times'}"
      ]
     },
     "execution_count": 8,
     "metadata": {},
     "output_type": "execute_result"
    }
   ],
   "source": [
    "music_difference"
   ]
  },
  {
   "cell_type": "code",
   "execution_count": 9,
   "id": "48cb01b9",
   "metadata": {},
   "outputs": [],
   "source": [
    "#Creating an empty set\n",
    "empty_genres = set()"
   ]
  },
  {
   "cell_type": "code",
   "execution_count": 10,
   "id": "11ee4855",
   "metadata": {},
   "outputs": [
    {
     "data": {
      "text/plain": [
       "set()"
      ]
     },
     "execution_count": 10,
     "metadata": {},
     "output_type": "execute_result"
    }
   ],
   "source": [
    "empty_genres"
   ]
  },
  {
   "cell_type": "code",
   "execution_count": 11,
   "id": "016d3602",
   "metadata": {},
   "outputs": [],
   "source": [
    "#sets using a set comprehension and a data set such as a list\n",
    "items = ['country', 'punk', 'rap', 'techno', 'pop', 'latin']"
   ]
  },
  {
   "cell_type": "code",
   "execution_count": 12,
   "id": "9b16ba3b",
   "metadata": {},
   "outputs": [],
   "source": [
    "music_genres = {category for category in items if category[0]=='p'}"
   ]
  },
  {
   "cell_type": "code",
   "execution_count": 13,
   "id": "df27c887",
   "metadata": {},
   "outputs": [
    {
     "data": {
      "text/plain": [
       "{'pop', 'punk'}"
      ]
     },
     "execution_count": 13,
     "metadata": {},
     "output_type": "execute_result"
    }
   ],
   "source": [
    "music_genres"
   ]
  },
  {
   "cell_type": "code",
   "execution_count": 14,
   "id": "47e4f43c",
   "metadata": {},
   "outputs": [
    {
     "name": "stdout",
     "output_type": "stream",
     "text": [
      "{'k-pop', 'pop', 'classical', 'country', 'rock', 'latin', 'rap'}\n",
      "{'pop', 'lat', 'cla', 'k-p', 'roc', 'cou', 'rap'}\n"
     ]
    }
   ],
   "source": [
    "genre_results = ['rap', 'classical', 'rock', 'rock', 'country', 'rap', 'rock', 'latin', 'country', 'k-pop', 'pop', 'rap', 'rock', 'k-pop',  'rap', 'k-pop', 'rock', 'rap', 'latin', 'pop', 'pop', 'classical', 'pop', 'country', 'rock', 'classical', 'country', 'pop', 'rap', 'latin']\n",
    "\n",
    "# Write your code below!\n",
    "survey_genres = set(genre_results)\n",
    "print(survey_genres)\n",
    "survey_abbreviated = {genre[0:3] for genre in genre_results}\n",
    "print(survey_abbreviated)"
   ]
  },
  {
   "cell_type": "markdown",
   "id": "a4cfe9ea",
   "metadata": {},
   "source": [
    "#### Creating a Frozenset"
   ]
  },
  {
   "cell_type": "markdown",
   "id": "6b221d7a",
   "metadata": {},
   "source": [
    "Unlike a normal set, we can only create a frozenset using its constructor. Using a frozenset means that we cannot modify the elements inside of it."
   ]
  },
  {
   "cell_type": "code",
   "execution_count": 15,
   "id": "6af68012",
   "metadata": {},
   "outputs": [],
   "source": [
    "#Creating a frozenset from a list\n",
    "frozen_music_genres = frozenset(['country', 'punk', 'rap', 'techno', 'pop', 'latin'])"
   ]
  },
  {
   "cell_type": "code",
   "execution_count": 16,
   "id": "96a916d9",
   "metadata": {},
   "outputs": [
    {
     "data": {
      "text/plain": [
       "frozenset({'country', 'latin', 'pop', 'punk', 'rap', 'techno'})"
      ]
     },
     "execution_count": 16,
     "metadata": {},
     "output_type": "execute_result"
    }
   ],
   "source": [
    "frozen_music_genres"
   ]
  },
  {
   "cell_type": "code",
   "execution_count": 17,
   "id": "556b38a0",
   "metadata": {},
   "outputs": [],
   "source": [
    "#Create an empty frozenset\n",
    "empty_frozen_music_genres = frozenset()"
   ]
  },
  {
   "cell_type": "code",
   "execution_count": 18,
   "id": "cb5ef011",
   "metadata": {},
   "outputs": [],
   "source": [
    "top_genres = ['rap', 'rock', 'pop']"
   ]
  },
  {
   "cell_type": "code",
   "execution_count": 19,
   "id": "e4294943",
   "metadata": {},
   "outputs": [],
   "source": [
    "#Creating a frozenset to preserve this data, and prevent\n",
    "#it from being modified"
   ]
  },
  {
   "cell_type": "code",
   "execution_count": 20,
   "id": "fabc1252",
   "metadata": {},
   "outputs": [],
   "source": [
    "frozen_top_genres = frozenset(top_genres)"
   ]
  },
  {
   "cell_type": "code",
   "execution_count": 21,
   "id": "6794278c",
   "metadata": {},
   "outputs": [
    {
     "data": {
      "text/plain": [
       "frozenset({'pop', 'rap', 'rock'})"
      ]
     },
     "execution_count": 21,
     "metadata": {},
     "output_type": "execute_result"
    }
   ],
   "source": [
    "frozen_top_genres"
   ]
  },
  {
   "cell_type": "markdown",
   "id": "d5e995b2",
   "metadata": {},
   "source": [
    "#### Adding to a Set"
   ]
  },
  {
   "cell_type": "markdown",
   "id": "9f264270",
   "metadata": {},
   "source": [
    "There are two ways to add elements to a set"
   ]
  },
  {
   "cell_type": "code",
   "execution_count": 22,
   "id": "268fec05",
   "metadata": {},
   "outputs": [],
   "source": [
    "#.add() method can add a single element to the set\n",
    "# Create a set to hold the song tags"
   ]
  },
  {
   "cell_type": "code",
   "execution_count": 23,
   "id": "cad56d19",
   "metadata": {},
   "outputs": [],
   "source": [
    "song_tags = {'country', 'folk', 'acoustic'}"
   ]
  },
  {
   "cell_type": "code",
   "execution_count": 24,
   "id": "09704004",
   "metadata": {},
   "outputs": [
    {
     "data": {
      "text/plain": [
       "{'acoustic', 'country', 'folk'}"
      ]
     },
     "execution_count": 24,
     "metadata": {},
     "output_type": "execute_result"
    }
   ],
   "source": [
    "song_tags"
   ]
  },
  {
   "cell_type": "code",
   "execution_count": 25,
   "id": "9e25007c",
   "metadata": {},
   "outputs": [],
   "source": [
    "song_tags.add('guitar')\n",
    "song_tags.add('country')"
   ]
  },
  {
   "cell_type": "code",
   "execution_count": 26,
   "id": "8249c3ac",
   "metadata": {},
   "outputs": [
    {
     "name": "stdout",
     "output_type": "stream",
     "text": [
      "{'country', 'guitar', 'acoustic', 'folk'}\n"
     ]
    }
   ],
   "source": [
    "print(song_tags)"
   ]
  },
  {
   "cell_type": "code",
   "execution_count": 27,
   "id": "a04d1369",
   "metadata": {},
   "outputs": [],
   "source": [
    "#.update() method can add multiple elements"
   ]
  },
  {
   "cell_type": "code",
   "execution_count": 28,
   "id": "5283ad89",
   "metadata": {},
   "outputs": [],
   "source": [
    "song_tags = {'country', 'folk', 'acoustic'}\n",
    "# Add more tags using a hashable object (such as a list of elements)\n",
    "other_tags = ['live', 'blues', 'acoustic']\n",
    "song_tags.update(other_tags)"
   ]
  },
  {
   "cell_type": "code",
   "execution_count": 29,
   "id": "f5a3de68",
   "metadata": {},
   "outputs": [
    {
     "data": {
      "text/plain": [
       "{'acoustic', 'blues', 'country', 'folk', 'live'}"
      ]
     },
     "execution_count": 29,
     "metadata": {},
     "output_type": "execute_result"
    }
   ],
   "source": [
    "song_tags"
   ]
  },
  {
   "cell_type": "markdown",
   "id": "d2c57692",
   "metadata": {},
   "source": [
    "* Neither of these methods will add a duplicate item to a set\n",
    "* A frozen set cannot have any items added to it\n",
    "* Not printed in the same order in which they entered the set, as set and frozenset containers are unordered."
   ]
  },
  {
   "cell_type": "code",
   "execution_count": 30,
   "id": "7874c083",
   "metadata": {},
   "outputs": [],
   "source": [
    "song_data = {'Retro Words': ['pop', 'warm', 'happy', 'electric']}\n"
   ]
  },
  {
   "cell_type": "code",
   "execution_count": 31,
   "id": "70100fbb",
   "metadata": {},
   "outputs": [
    {
     "data": {
      "text/plain": [
       "{'Retro Words': ['pop', 'warm', 'happy', 'electric']}"
      ]
     },
     "execution_count": 31,
     "metadata": {},
     "output_type": "execute_result"
    }
   ],
   "source": [
    "song_data"
   ]
  },
  {
   "cell_type": "code",
   "execution_count": 32,
   "id": "c04066cc",
   "metadata": {},
   "outputs": [
    {
     "data": {
      "text/plain": [
       "{'electric', 'happy', 'pop', 'warm'}"
      ]
     },
     "execution_count": 32,
     "metadata": {},
     "output_type": "execute_result"
    }
   ],
   "source": [
    "set(song_data['Retro Words'])"
   ]
  },
  {
   "cell_type": "code",
   "execution_count": 33,
   "id": "742b913b",
   "metadata": {},
   "outputs": [],
   "source": [
    "song_data = {'Retro Words': ['pop', 'warm', 'happy', 'electric']}\n",
    "\n",
    "user_tag_1 = 'warm'\n",
    "user_tag_2 = 'exciting'\n",
    "user_tag_3 = 'electric'\n",
    "\n",
    "# Write your code below!\n",
    "tag_set = set(song_data['Retro Words'])\n",
    "tag_set.update([user_tag_1, user_tag_2, user_tag_3]\n",
    ")\n",
    "song_data['Retro Words'] = tag_set"
   ]
  },
  {
   "cell_type": "code",
   "execution_count": 34,
   "id": "74677b6c",
   "metadata": {},
   "outputs": [
    {
     "data": {
      "text/plain": [
       "{'Retro Words': {'electric', 'exciting', 'happy', 'pop', 'warm'}}"
      ]
     },
     "execution_count": 34,
     "metadata": {},
     "output_type": "execute_result"
    }
   ],
   "source": [
    "song_data"
   ]
  },
  {
   "cell_type": "markdown",
   "id": "63afc671",
   "metadata": {},
   "source": [
    "#### Removing from a Set"
   ]
  },
  {
   "cell_type": "code",
   "execution_count": 35,
   "id": "fb8ac28b",
   "metadata": {},
   "outputs": [],
   "source": [
    "# Two methods for removing specific elements from a set"
   ]
  },
  {
   "cell_type": "code",
   "execution_count": 36,
   "id": "9117d864",
   "metadata": {},
   "outputs": [],
   "source": [
    "# .remove() method searches for an element within the set\n",
    "# and removes it if it exists, otherwise, a KeyError is thrown."
   ]
  },
  {
   "cell_type": "code",
   "execution_count": 37,
   "id": "994f75f6",
   "metadata": {},
   "outputs": [],
   "source": [
    "# Given a list of song tags\n",
    "song_tags = {'guitar', 'acoustic', 'folk', 'country', 'live', 'blues'}"
   ]
  },
  {
   "cell_type": "code",
   "execution_count": 38,
   "id": "8dc5e036",
   "metadata": {},
   "outputs": [
    {
     "data": {
      "text/plain": [
       "{'acoustic', 'blues', 'country', 'folk', 'guitar', 'live'}"
      ]
     },
     "execution_count": 38,
     "metadata": {},
     "output_type": "execute_result"
    }
   ],
   "source": [
    "song_tags"
   ]
  },
  {
   "cell_type": "code",
   "execution_count": 39,
   "id": "f7ba05cb",
   "metadata": {},
   "outputs": [],
   "source": [
    "# Remove an existing element\n",
    "song_tags.remove('folk')"
   ]
  },
  {
   "cell_type": "code",
   "execution_count": 40,
   "id": "f179c1d9",
   "metadata": {},
   "outputs": [
    {
     "data": {
      "text/plain": [
       "{'acoustic', 'blues', 'country', 'guitar', 'live'}"
      ]
     },
     "execution_count": 40,
     "metadata": {},
     "output_type": "execute_result"
    }
   ],
   "source": [
    "song_tags"
   ]
  },
  {
   "cell_type": "code",
   "execution_count": 41,
   "id": "e73728c2",
   "metadata": {},
   "outputs": [
    {
     "ename": "KeyError",
     "evalue": "'feeble'",
     "output_type": "error",
     "traceback": [
      "\u001b[0;31m---------------------------------------------------------------------------\u001b[0m",
      "\u001b[0;31mKeyError\u001b[0m                                  Traceback (most recent call last)",
      "\u001b[0;32m<ipython-input-41-a3dcdc5c7a56>\u001b[0m in \u001b[0;36m<module>\u001b[0;34m\u001b[0m\n\u001b[0;32m----> 1\u001b[0;31m \u001b[0msong_tags\u001b[0m\u001b[0;34m.\u001b[0m\u001b[0mremove\u001b[0m\u001b[0;34m(\u001b[0m\u001b[0;34m'feeble'\u001b[0m\u001b[0;34m)\u001b[0m\u001b[0;34m\u001b[0m\u001b[0;34m\u001b[0m\u001b[0m\n\u001b[0m",
      "\u001b[0;31mKeyError\u001b[0m: 'feeble'"
     ]
    }
   ],
   "source": [
    "song_tags.remove('feeble')"
   ]
  },
  {
   "cell_type": "code",
   "execution_count": null,
   "id": "378af719",
   "metadata": {},
   "outputs": [],
   "source": [
    "# .discard() method works the same way but does not throw\n",
    "# an exception if an element is not present."
   ]
  },
  {
   "cell_type": "code",
   "execution_count": null,
   "id": "f4765769",
   "metadata": {},
   "outputs": [],
   "source": [
    "song_tags.discard('guitar')"
   ]
  },
  {
   "cell_type": "code",
   "execution_count": null,
   "id": "0be6206c",
   "metadata": {},
   "outputs": [],
   "source": [
    "song_tags"
   ]
  },
  {
   "cell_type": "code",
   "execution_count": null,
   "id": "6eae202c",
   "metadata": {},
   "outputs": [],
   "source": [
    "song_tags.discard('pop')"
   ]
  },
  {
   "cell_type": "code",
   "execution_count": null,
   "id": "346a7480",
   "metadata": {},
   "outputs": [],
   "source": [
    "# Items cannot be removed from a frozenset"
   ]
  },
  {
   "cell_type": "code",
   "execution_count": null,
   "id": "26de20e6",
   "metadata": {},
   "outputs": [],
   "source": [
    "song_data_users = {'Retro Words': ['pop', 'onion', 'warm', 'helloworld', 'happy', 'spam', 'electric']}\n",
    "\n",
    "# Write your code below!\n",
    "tag_set = set(song_data_users['Retro Words'])"
   ]
  },
  {
   "cell_type": "code",
   "execution_count": null,
   "id": "6e4ff59c",
   "metadata": {},
   "outputs": [],
   "source": [
    "tag_set"
   ]
  },
  {
   "cell_type": "code",
   "execution_count": null,
   "id": "3d35b859",
   "metadata": {},
   "outputs": [],
   "source": [
    "tag_set.remove('onion')\n",
    "tag_set.remove('helloworld')\n",
    "tag_set.remove('spam')\n",
    "\n",
    "song_data_users['Retro Words'] = tag_set"
   ]
  },
  {
   "cell_type": "code",
   "execution_count": null,
   "id": "d7c3e6a2",
   "metadata": {},
   "outputs": [],
   "source": [
    "song_data_users"
   ]
  },
  {
   "cell_type": "markdown",
   "id": "09f25c8f",
   "metadata": {},
   "source": [
    "#### Finding elements in a Set"
   ]
  },
  {
   "cell_type": "markdown",
   "id": "955ca23c",
   "metadata": {},
   "source": [
    "set and frozenset items cannot be accessed by a specific index, as both containers are unordered and have no indices. But, like most python containers, we can use the **in** keyword to test of an elements is in a set or frozenset."
   ]
  },
  {
   "cell_type": "code",
   "execution_count": null,
   "id": "fb3e2b9f",
   "metadata": {},
   "outputs": [],
   "source": [
    "# Give a list of song tags\n",
    "song_tags = {'guitar', 'acoustic', 'folk', 'country', 'live', 'blues'}"
   ]
  },
  {
   "cell_type": "code",
   "execution_count": null,
   "id": "83406904",
   "metadata": {},
   "outputs": [],
   "source": [
    "song_tags"
   ]
  },
  {
   "cell_type": "code",
   "execution_count": null,
   "id": "8c22ea91",
   "metadata": {},
   "outputs": [],
   "source": [
    "print('country' in song_tags)"
   ]
  },
  {
   "cell_type": "code",
   "execution_count": null,
   "id": "cd50ab12",
   "metadata": {},
   "outputs": [],
   "source": [
    "#Also works for frozenset\n",
    "frozen_tags = frozenset(song_tags)"
   ]
  },
  {
   "cell_type": "code",
   "execution_count": null,
   "id": "8e8d9e2e",
   "metadata": {},
   "outputs": [],
   "source": [
    "frozen_tags"
   ]
  },
  {
   "cell_type": "code",
   "execution_count": null,
   "id": "63188a87",
   "metadata": {},
   "outputs": [],
   "source": [
    "type(song_tags)"
   ]
  },
  {
   "cell_type": "code",
   "execution_count": null,
   "id": "2a45f090",
   "metadata": {},
   "outputs": [],
   "source": [
    "print('rock' in frozen_tags)"
   ]
  },
  {
   "cell_type": "code",
   "execution_count": null,
   "id": "a56edbc3",
   "metadata": {},
   "outputs": [],
   "source": [
    "allowed_tags = ['pop', 'hip-hop', 'rap', 'dance', 'electronic', 'latin', 'indie', 'alternative rock', 'classical', 'k-pop', 'country', 'rock', 'metal', 'jazz', 'exciting', 'sad', 'happy', 'upbeat', 'party', 'synth', 'rhythmic', 'emotional', 'relationship', 'warm', 'guitar', 'fiddle', 'romance', 'chill', 'swing']\n",
    "\n",
    "song_data_users = {'Retro Words': ['pop', 'explosion', 'hammer', 'bomb', 'warm', 'due', 'writer', 'happy', 'horrible', 'electric', 'mushroom', 'shed']}\n",
    "\n",
    "# Write your code below!\n",
    "tag_set = set(song_data_users['Retro Words'])\n",
    "bad_tags = []\n",
    "for i in tag_set:\n",
    "  if i not in allowed_tags:\n",
    "    bad_tags.append(i)\n",
    "\n",
    "for tag in bad_tags:\n",
    "  tag_set.remove(tag)\n",
    "\n",
    "song_data_users['Retro Words'] = tag_set"
   ]
  },
  {
   "cell_type": "code",
   "execution_count": null,
   "id": "d4daa5a4",
   "metadata": {},
   "outputs": [],
   "source": [
    "song_data_users"
   ]
  },
  {
   "cell_type": "markdown",
   "id": "9f1e9ef8",
   "metadata": {},
   "source": [
    "#### Introduction to Set Operations\n",
    "* Unions\n",
    "* Intersections (and Intersection Updates)\n",
    "* Difference (and Difference Updates)\n",
    "* Symmetric Differences (and Symmetric Difference Updates)"
   ]
  },
  {
   "cell_type": "markdown",
   "id": "d35478c2",
   "metadata": {},
   "source": [
    "#### Set Union"
   ]
  },
  {
   "cell_type": "markdown",
   "id": "6ce54139",
   "metadata": {},
   "source": [
    "One of the most common operations we can perform is a merge using .union() method or | operator. Doing so will return a new set or frozenset containing all elements from both sets without duplicates."
   ]
  },
  {
   "cell_type": "code",
   "execution_count": null,
   "id": "bbe014b7",
   "metadata": {},
   "outputs": [],
   "source": [
    "# Given a set and frozenset of song tags for two python\n",
    "# related hits"
   ]
  },
  {
   "cell_type": "code",
   "execution_count": null,
   "id": "74aa4805",
   "metadata": {},
   "outputs": [],
   "source": [
    "prepare_to_py = {'rock', 'heavy metal', 'electric guitar', 'synth'}"
   ]
  },
  {
   "cell_type": "code",
   "execution_count": null,
   "id": "e06176d0",
   "metadata": {},
   "outputs": [],
   "source": [
    "prepare_to_py"
   ]
  },
  {
   "cell_type": "code",
   "execution_count": null,
   "id": "6d14db24",
   "metadata": {},
   "outputs": [],
   "source": [
    "py_and_dry = frozenset({'classic', 'rock', 'electric guitar', 'rock and roll'})"
   ]
  },
  {
   "cell_type": "code",
   "execution_count": null,
   "id": "fac1bb6c",
   "metadata": {},
   "outputs": [],
   "source": [
    "py_and_dry"
   ]
  },
  {
   "cell_type": "code",
   "execution_count": null,
   "id": "4487b548",
   "metadata": {},
   "outputs": [],
   "source": [
    "#Get the union using the .union() method \n",
    "combined_tags = prepare_to_py.union(py_and_dry)"
   ]
  },
  {
   "cell_type": "code",
   "execution_count": null,
   "id": "ebe51bf5",
   "metadata": {},
   "outputs": [],
   "source": [
    "print(combined_tags)"
   ]
  },
  {
   "cell_type": "code",
   "execution_count": null,
   "id": "84547600",
   "metadata": {},
   "outputs": [],
   "source": [
    "# Look at left"
   ]
  },
  {
   "cell_type": "markdown",
   "id": "b950a211",
   "metadata": {},
   "source": [
    "#### Using |"
   ]
  },
  {
   "cell_type": "code",
   "execution_count": null,
   "id": "7b968a85",
   "metadata": {},
   "outputs": [],
   "source": [
    "# Get the union using the | operator\n",
    "frozen_combined_tags = py_and_dry | prepare_to_py"
   ]
  },
  {
   "cell_type": "code",
   "execution_count": null,
   "id": "ebb69572",
   "metadata": {},
   "outputs": [],
   "source": [
    "print(frozen_combined_tags)"
   ]
  },
  {
   "cell_type": "code",
   "execution_count": null,
   "id": "309d9b8d",
   "metadata": {},
   "outputs": [],
   "source": [
    "# left operand"
   ]
  },
  {
   "cell_type": "markdown",
   "id": "fccabdbe",
   "metadata": {},
   "source": [
    "To improve the logic for adding user tags to songs in the app, we can use the union of tag sets! Our team has provided us two dictionaries.\n",
    "\n",
    "The first dictionary (song_data) contains song data including tags from the original artists, while the second dictionary (user_tag_data) includes tags that have been added by users. Let’s attempt to merge the tag sets together so we have a full collection of tags.\n",
    "\n",
    "First, create an empty dictionary called new_song_data which will hold the merged tag data."
   ]
  },
  {
   "cell_type": "code",
   "execution_count": null,
   "id": "9e3ba8a8",
   "metadata": {},
   "outputs": [],
   "source": [
    "song_data = {'Retro Words': ['pop', 'warm', 'happy', 'electronic'],\n",
    "             'Wait For Limit': ['rap', 'upbeat', 'romance'],\n",
    "             'Stomping Cue': ['country', 'fiddle', 'party'],\n",
    "             'Lowkey Space': ['electronic', 'dance', 'synth']}\n",
    "\n",
    "user_tag_data = {'Lowkey Space': ['party', 'synth', 'fast', 'upbeat'],\n",
    "                 'Retro Words': ['happy', 'electronic', 'fun', 'exciting'],\n",
    "                 'Wait For Limit': ['romance', 'chill', 'rap', 'rhythmic'], \n",
    "                 'Stomping Cue': ['country', 'swing', 'party', 'instrumental']}\n",
    "\n",
    "# Write your code below!\n",
    "new_song_data = {}\n",
    "for k,v in song_data.items():\n",
    "  song_tag_set = set(song_data[k])\n",
    "  user_tag_set= set(user_tag_data[k])\n",
    "  new_song_data[k] = song_tag_set.union(user_tag_set)\n",
    "\n",
    "print(new_song_data)"
   ]
  },
  {
   "cell_type": "markdown",
   "id": "dc095491",
   "metadata": {},
   "source": [
    "#### Set Intersection"
   ]
  },
  {
   "cell_type": "code",
   "execution_count": null,
   "id": "d79d1a77",
   "metadata": {},
   "outputs": [],
   "source": [
    "#.intersection() and .intersection_update(), here the original\n",
    "# is updated to contain the result of the intersection"
   ]
  },
  {
   "cell_type": "code",
   "execution_count": null,
   "id": "0f6656ce",
   "metadata": {},
   "outputs": [],
   "source": [
    "song_data = {'Retro Words': ['pop', 'warm', 'happy', 'electronic', 'synth'],\n",
    "             'Wait For Limit': ['rap', 'upbeat', 'romance'],\n",
    "             'Stomping Cue': ['country', 'fiddle', 'party'],\n",
    "             'Lowkey Space': ['electronic', 'dance', 'synth', 'upbeat'],\n",
    "             'Back To Art': ['pop', 'sad', 'emotional', 'relationship'],\n",
    "             'Blinding Era': ['rap', 'intense', 'moving', 'fast'],\n",
    "             'Down To Green Hills': ['country', 'relaxing', 'vocal', 'emotional'],\n",
    "             'Double Lights': ['electronic', 'chill', 'relaxing', 'piano', 'synth']}\n",
    "\n",
    "user_recent_songs = {'Retro Words': ['pop', 'warm', 'happy', 'electronic', 'synth'],\n",
    "                     'Lowkey Space': ['electronic', 'dance', 'synth', 'upbeat']}\n",
    "\n",
    "# Checkpoint 1\n",
    "tags_int = set(user_recent_songs['Retro Words']) & set(user_recent_songs['Lowkey Space'])\n",
    "\n",
    "# Checkpoint 2\n",
    "recommended_songs = {}\n",
    "for key, val in song_data.items():\n",
    "    for tag in val:\n",
    "        if tag in tags_int:\n",
    "            if key not in user_recent_songs:\n",
    "                recommended_songs[key] = val\n",
    "\n",
    "print(recommended_songs)"
   ]
  },
  {
   "cell_type": "code",
   "execution_count": null,
   "id": "9d79eebd",
   "metadata": {},
   "outputs": [],
   "source": [
    "song_data = {'Retro Words': ['pop', 'warm', 'happy', 'electronic', 'synth'],\n",
    "             'Wait For Limit': ['rap', 'upbeat', 'romance'],\n",
    "             'Stomping Cue': ['country', 'fiddle', 'party'],\n",
    "             'Lowkey Space': ['electronic', 'dance', 'synth', 'upbeat'],\n",
    "             'Back To Art': ['pop', 'sad', 'emotional', 'relationship'],\n",
    "             'Blinding Era': ['rap', 'intense', 'moving', 'fast'],\n",
    "             'Down To Green Hills': ['country', 'relaxing', 'vocal', 'emotional'],\n",
    "             'Double Lights': ['electronic', 'chill', 'relaxing', 'piano', 'synth']}\n",
    "\n",
    "user_recent_songs = {'Retro Words': ['pop', 'warm', 'happy', 'electronic', 'synth'],\n",
    "                     'Lowkey Space': ['electronic', 'dance', 'synth', 'upbeat']}\n",
    "\n",
    "# Checkpoint 1\n",
    "tags_int = set(user_recent_songs['Retro Words']) & set(user_recent_songs['Lowkey Space'])"
   ]
  },
  {
   "cell_type": "code",
   "execution_count": null,
   "id": "74c39cb0",
   "metadata": {},
   "outputs": [],
   "source": [
    "recommended_songs = {}"
   ]
  },
  {
   "cell_type": "code",
   "execution_count": null,
   "id": "8e1ef532",
   "metadata": {},
   "outputs": [],
   "source": [
    "for k, v in song_data.items():\n",
    "    for tag in v:\n",
    "        if tag in tags_int:\n",
    "            if k not in user_recent_songs:\n",
    "                recommended_songs[k] = v"
   ]
  },
  {
   "cell_type": "code",
   "execution_count": null,
   "id": "09ce7149",
   "metadata": {},
   "outputs": [],
   "source": [
    "recommended_songs"
   ]
  },
  {
   "cell_type": "code",
   "execution_count": 42,
   "id": "ffcd6c7c",
   "metadata": {},
   "outputs": [
    {
     "name": "stdout",
     "output_type": "stream",
     "text": [
      "[['item', 'num_pallets', 'importance'], ['nylon', '10', 'unimportant'], ['leather', '4', 'unimportant'], ['wool', '1', 'important'], ['leather', '1', 'unimportant'], ['nylon', '1', 'unimportant'], ['polyester', '2', 'important'], ['silk', '1', 'important'], ['cotton', '5', 'important'], ['cotton', '5', 'important'], ['leather', '3', 'unimportant'], ['silk thread', '5', 'important'], ['nylon', '6', 'unimportant'], ['cotton', '3', 'unimportant'], ['leather', '8', 'unimportant'], ['polyester', '2', 'unimportant'], ['cotton thread', '5', 'important'], ['denim', '8', 'important'], ['cotton thread', '10', 'unimportant'], ['silk thread', '9', 'important'], ['cotton', '5', 'important'], ['elastic thread', '7', 'unimportant'], ['polyester thread', '7', 'important'], ['polyester', '7', 'important'], ['polyester thread', '9', 'important'], ['polyester', '6', 'unimportant'], ['denim thread', '8', 'unimportant'], ['silk', '2', 'important'], ['nylon', '6', 'unimportant'], ['elastic thread', '1', 'unimportant'], ['elastic thread', '9', 'important'], ['linen thread', '7', 'unimportant'], ['cotton', '4', 'unimportant'], ['elastic thread', '6', 'important'], ['nylon', '8', 'unimportant'], ['silk', '5', 'unimportant'], ['polyester thread', '6', 'unimportant'], ['denim thread', '6', 'important'], ['denim', '2', 'important'], ['polyester', '10', 'important'], ['polyester', '9', 'unimportant'], ['polyester thread', '8', 'unimportant'], ['silk', '5', 'unimportant'], ['wool', '4', 'important'], ['linen thread', '7', 'important'], ['linen thread', '4', 'unimportant'], ['cotton thread', '7', 'unimportant'], ['elastic thread', '2', 'unimportant'], ['wool', '3', 'important'], ['silk thread', '4', 'unimportant'], ['silk', '3', 'important'], ['nylon', '10', 'important'], ['leather', '7', 'important'], ['denim', '9', 'important'], ['nylon', '3', 'important'], ['denim', '8', 'important'], ['linen thread', '5', 'important'], ['polyester', '4', 'important'], ['silk thread', '9', 'unimportant'], ['elastic thread', '3', 'unimportant'], ['leather', '10', 'important'], ['elastic thread', '6', 'unimportant'], ['silk', '10', 'unimportant'], ['cotton', '6', 'unimportant'], ['linen thread', '4', 'important'], ['nylon', '1', 'unimportant'], ['denim thread', '4', 'important'], ['polyester thread', '9', 'important'], ['leather', '9', 'unimportant'], ['polyester thread', '5', 'unimportant'], ['denim thread', '5', 'important'], ['wool', '7', 'important'], ['linen thread', '3', 'important'], ['linen thread', '10', 'important'], ['polyester', '6', 'important'], ['silk thread', '2', 'unimportant'], ['leather', '3', 'important'], ['cotton', '9', 'unimportant'], ['wool', '6', 'important'], ['denim', '2', 'important'], ['elastic thread', '2', 'unimportant'], ['nylon', '5', 'important'], ['polyester', '8', 'unimportant'], ['polyester', '5', 'unimportant'], ['polyester', '10', 'important'], ['leather', '4', 'unimportant'], ['elastic thread', '7', 'unimportant'], ['wool', '4', 'unimportant'], ['cotton', '5', 'unimportant'], ['leather', '7', 'unimportant'], ['leather', '4', 'unimportant'], ['linen thread', '4', 'important'], ['polyester', '2', 'important'], ['wool', '6', 'important'], ['polyester', '8', 'unimportant'], ['linen thread', '9', 'unimportant'], ['elastic thread', '8', 'unimportant'], ['denim', '9', 'important'], ['silk thread', '5', 'important'], ['silk', '1', 'unimportant'], ['silk', '6', 'unimportant']]\n"
     ]
    }
   ],
   "source": [
    "import csv\n",
    "\n",
    "def process_csv_supplies():\n",
    "    data = []\n",
    "    with open('supplies_data.csv', 'r') as csvfile:\n",
    "        r = csv.reader(csvfile)\n",
    "        for row in r:\n",
    "            data.append(tuple(row))\n",
    "\n",
    "    print(data)\n",
    "process_csv_supplies()"
   ]
  },
  {
   "cell_type": "code",
   "execution_count": null,
   "id": "16e2505a",
   "metadata": {},
   "outputs": [],
   "source": []
  }
 ],
 "metadata": {
  "kernelspec": {
   "display_name": "Python 3",
   "language": "python",
   "name": "python3"
  },
  "language_info": {
   "codemirror_mode": {
    "name": "ipython",
    "version": 3
   },
   "file_extension": ".py",
   "mimetype": "text/x-python",
   "name": "python",
   "nbconvert_exporter": "python",
   "pygments_lexer": "ipython3",
   "version": "3.8.8"
  }
 },
 "nbformat": 4,
 "nbformat_minor": 5
}
